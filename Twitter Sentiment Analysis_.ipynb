{
 "cells": [
  {
   "cell_type": "markdown",
   "id": "768523db-75f5-4814-bc8b-12edb1eafc87",
   "metadata": {},
   "source": [
    "## Importing all the packages"
   ]
  },
  {
   "cell_type": "code",
   "execution_count": 1,
   "id": "5ee38d8e-c9af-4063-8f7f-69e1da321119",
   "metadata": {},
   "outputs": [],
   "source": [
    "import pandas as pd\n",
    "import numpy as np\n",
    "from tqdm import tqdm\n",
    "tqdm.pandas(ncols=50)\n",
    "\n",
    "import nltk\n",
    "from nltk import word_tokenize\n",
    "from nltk.corpus import stopwords, words\n",
    "import regex as re\n",
    "\n",
    "import seaborn as sns\n",
    "import matplotlib.pyplot as plt\n",
    "\n",
    "import gensim\n",
    "from gensim.models.doc2vec import TaggedDocument\n",
    "from gensim.models import Doc2Vec\n",
    "\n",
    "import sklearn\n",
    "from sklearn import utils\n",
    "from sklearn.feature_extraction.text import TfidfVectorizer\n",
    "from sklearn.model_selection import train_test_split\n",
    "from sklearn.ensemble import GradientBoostingClassifier\n",
    "from sklearn.metrics import accuracy_score, f1_score, recall_score\n",
    "from xgboost import XGBClassifier\n",
    "from sklearn.naive_bayes import GaussianNB\n",
    "\n",
    "import tensorflow\n",
    "from tensorflow.keras.preprocessing.text import Tokenizer\n",
    "from tensorflow.keras.preprocessing.sequence import pad_sequences\n",
    "from keras.models import Sequential\n",
    "from keras.layers import Dense, Embedding, LSTM, Dropout\n",
    "from keras.callbacks import EarlyStopping, Callback"
   ]
  },
  {
   "cell_type": "code",
   "execution_count": 2,
   "id": "5497f77e-abab-4a44-8951-d90b045f85a1",
   "metadata": {},
   "outputs": [],
   "source": [
    "# import kagglehub\n",
    "# path = kagglehub.dataset_download(\"jp797498e/twitter-entity-sentiment-analysis\")\n",
    "# print(\"Path to dataset files:\", path)"
   ]
  },
  {
   "cell_type": "code",
   "execution_count": 3,
   "id": "6389e3df-7dd2-41b1-bbe8-013c924e990b",
   "metadata": {},
   "outputs": [],
   "source": [
    "df = pd.read_csv('twitter_training.csv', delimiter = ',', encoding = 'latin-1', header=None, names = ['Tweet_ID','Entity','sentiment','message'])"
   ]
  },
  {
   "cell_type": "markdown",
   "id": "b609672b-3bb6-4caf-bb99-108508c56156",
   "metadata": {},
   "source": [
    "## Data Preprocessing"
   ]
  },
  {
   "cell_type": "code",
   "execution_count": 4,
   "id": "6c5fdab0-50f1-48cd-a72c-d41fe95d5262",
   "metadata": {},
   "outputs": [],
   "source": [
    "# df.sentiment.value_counts()"
   ]
  },
  {
   "cell_type": "code",
   "execution_count": 5,
   "id": "fae2ec2b-da0f-473b-90d2-fad1b9a38382",
   "metadata": {},
   "outputs": [
    {
     "data": {
      "text/html": [
       "<div>\n",
       "<style scoped>\n",
       "    .dataframe tbody tr th:only-of-type {\n",
       "        vertical-align: middle;\n",
       "    }\n",
       "\n",
       "    .dataframe tbody tr th {\n",
       "        vertical-align: top;\n",
       "    }\n",
       "\n",
       "    .dataframe thead th {\n",
       "        text-align: right;\n",
       "    }\n",
       "</style>\n",
       "<table border=\"1\" class=\"dataframe\">\n",
       "  <thead>\n",
       "    <tr style=\"text-align: right;\">\n",
       "      <th></th>\n",
       "      <th>Tweet_ID</th>\n",
       "      <th>Entity</th>\n",
       "      <th>sentiment</th>\n",
       "      <th>message</th>\n",
       "    </tr>\n",
       "  </thead>\n",
       "  <tbody>\n",
       "    <tr>\n",
       "      <th>0</th>\n",
       "      <td>2401</td>\n",
       "      <td>Borderlands</td>\n",
       "      <td>2</td>\n",
       "      <td>im getting on borderlands and i will murder yo...</td>\n",
       "    </tr>\n",
       "    <tr>\n",
       "      <th>1</th>\n",
       "      <td>2401</td>\n",
       "      <td>Borderlands</td>\n",
       "      <td>2</td>\n",
       "      <td>I am coming to the borders and I will kill you...</td>\n",
       "    </tr>\n",
       "  </tbody>\n",
       "</table>\n",
       "</div>"
      ],
      "text/plain": [
       "   Tweet_ID       Entity  sentiment  \\\n",
       "0      2401  Borderlands          2   \n",
       "1      2401  Borderlands          2   \n",
       "\n",
       "                                             message  \n",
       "0  im getting on borderlands and i will murder yo...  \n",
       "1  I am coming to the borders and I will kill you...  "
      ]
     },
     "execution_count": 5,
     "metadata": {},
     "output_type": "execute_result"
    }
   ],
   "source": [
    "df['message'] = df['message'].astype('str')\n",
    "sentiment = {'Negative':0, 'Neutral':1, 'Positive':2, 'Irrelevant':3}\n",
    "df['sentiment'] = df['sentiment'].apply(lambda x: sentiment[x])\n",
    "df.head(2)"
   ]
  },
  {
   "cell_type": "code",
   "execution_count": 6,
   "id": "4e78ba87-89c5-47ef-8614-ca11394b8737",
   "metadata": {},
   "outputs": [
    {
     "data": {
      "text/plain": [
       "[]"
      ]
     },
     "execution_count": 6,
     "metadata": {},
     "output_type": "execute_result"
    },
    {
     "data": {
      "image/png": "[encoded data removed]",
      "text/plain": [
       "<Figure size 400x200 with 1 Axes>"
      ]
     },
     "metadata": {},
     "output_type": "display_data"
    }
   ],
   "source": [
    "plt.figure(figsize=(4,2))\n",
    "sns.barplot(x=df.sentiment.value_counts().index, y=df.sentiment.value_counts().values)\n",
    "#plt.bar(x=df.sentiment.value_counts().index, height=df.sentiment.value_counts().values)\n",
    "plt.xlabel('sentiment',fontsize = 8)\n",
    "plt.ylabel('count',fontsize = 8)\n",
    "plt.xticks(fontsize=8)\n",
    "plt.yticks(fontsize=8)\n",
    "plt.plot()"
   ]
  },
  {
   "cell_type": "code",
   "execution_count": 7,
   "id": "bb550bb1-c65f-415a-8d02-96ec2db3bd49",
   "metadata": {},
   "outputs": [],
   "source": [
    "def clean(text):\n",
    "    #text = BeautifulSoup(text, \"lxml\").text\n",
    "    text = re.sub(r'http/S+',r'<url>',text)\n",
    "    text = text.lower()\n",
    "    text = re.sub(r'[\\W+\\d+_]', ' ', text)\n",
    "    return text\n",
    "\n",
    "df['message']=df['message'].apply(lambda x: clean(x))"
   ]
  },
  {
   "cell_type": "code",
   "execution_count": 8,
   "id": "c1899f5d-1097-4e21-914c-862e4534cdc8",
   "metadata": {},
   "outputs": [],
   "source": [
    "dictionary_words = set(words.words())\n",
    "def unwanted_words_clean(text):\n",
    "    text = re.sub(r'[^a-zA-Z\\s]', '', text)\n",
    "    cleaned_text = ' '.join(word for word in re.findall(r'\\b\\w+\\b', text.lower()) if word in dictionary_words)\n",
    "    return cleaned_text\n",
    "\n",
    "df['message_TFIDF']=df['message'].apply(lambda x: unwanted_words_clean(x))"
   ]
  },
  {
   "cell_type": "code",
   "execution_count": 9,
   "id": "6cc55001-4ec8-494a-b406-159faa7263f4",
   "metadata": {},
   "outputs": [],
   "source": [
    "# The Tokenizer from Keras is used to convert text data into numerical sequences, which is essential for feeding text into neural networks. \n",
    "# num_words=500000: This specifies the maximum number of unique words to keep. The tokenizer will only consider the top 500,000 most frequent words from the dataset.\n",
    "\n",
    "# Fit on Text: When you use tokenizer.fit_on_texts(), it scans through all the text data, creating a word index (mapping each word to an integer index).\n",
    "# Text to Sequence: After fitting, when you use tokenizer.texts_to_sequences(), it converts the text data into sequences of integers where each word in the text is replaced by its corresponding index from the word index.\n",
    "# Text to Matrix: The tokenizer can also convert text to a binary or TF-IDF matrix, depending on the mode used (via texts_to_matrix)."
   ]
  },
  {
   "cell_type": "code",
   "execution_count": 10,
   "id": "3e506700-d5be-4992-afd5-2f3bdc275c65",
   "metadata": {},
   "outputs": [
    {
     "name": "stdout",
     "output_type": "stream",
     "text": [
      "             word  count\n",
      "0             the  44628\n",
      "1               i  36423\n",
      "2              to  29053\n",
      "3             and  26712\n",
      "4               a  24644\n",
      "...           ...    ...\n",
      "10399      outset      1\n",
      "10400     bluntly      1\n",
      "10401    hardship      1\n",
      "10402  hesitation      1\n",
      "10403         inn      1\n",
      "\n",
      "[10404 rows x 2 columns]\n"
     ]
    }
   ],
   "source": [
    "# word_counts = df['message_TFIDF'].str.split().explode().value_counts()\n",
    "\n",
    "# word_counts_df = word_counts.reset_index()\n",
    "# word_counts_df.columns = ['word', 'count']\n",
    "# print(word_counts_df)"
   ]
  },
  {
   "cell_type": "code",
   "execution_count": null,
   "id": "fd134786-fee6-47b9-9828-f29e95f7d1bb",
   "metadata": {},
   "outputs": [],
   "source": [
    "# plt.scatter(word_counts_df['count'].value_counts().keys(), word_counts_df['count'].value_counts().values)\n",
    "# plt.ylim(0,1000)\n",
    "# plt.xlim(0,5000)"
   ]
  },
  {
   "cell_type": "markdown",
   "id": "8e6ff6b0-8657-483b-b7fa-f3004535202a",
   "metadata": {},
   "source": [
    "## Tfidf Vectorizer"
   ]
  },
  {
   "cell_type": "code",
   "execution_count": 11,
   "id": "f941fd22-5b21-48bf-bdba-b8bb7f21def4",
   "metadata": {},
   "outputs": [],
   "source": [
    "tfidf = TfidfVectorizer(ngram_range=(1,3), max_df = 6400, min_df = 10)\n",
    "X_tfidf = tfidf.fit_transform(df['message_TFIDF'])"
   ]
  },
  {
   "cell_type": "code",
   "execution_count": 55,
   "id": "639f3032-ea13-4f36-a25d-af6903d85b5b",
   "metadata": {},
   "outputs": [],
   "source": [
    "X_tfidf_dense = X_tfidf[:2].toarray()\n",
    "tfidf_df = pd.DataFrame(X_tfidf_dense, columns=tfidf.get_feature_names_out())\n",
    "#print(tfidf_df)"
   ]
  },
  {
   "cell_type": "markdown",
   "id": "d87a6f02-acf2-49bf-937a-8e0b494d3443",
   "metadata": {},
   "source": [
    "## Feature generation (Word embeddings by traing Doc2Vec model)"
   ]
  },
  {
   "cell_type": "code",
   "execution_count": 21,
   "id": "8eb31761-fccd-4702-96d6-f6c1d628e7ad",
   "metadata": {},
   "outputs": [],
   "source": [
    "def word_tokenize(text):\n",
    "    tokens=[]\n",
    "    for word in nltk.word_tokenize(text):\n",
    "            tokens.append(word)\n",
    "    return set(tokens)\n",
    "    \n",
    "df_tagged = df.apply(lambda x: TaggedDocument(words=word_tokenize(x['message']), tags = [x['sentiment']]), axis = 1)"
   ]
  },
  {
   "cell_type": "code",
   "execution_count": 22,
   "id": "5e2433cb-f670-404b-8cbf-999863daac2c",
   "metadata": {},
   "outputs": [],
   "source": [
    "tokenizer = Tokenizer(num_words=500000, split=' ', filters='!\"#$%&()*+,-./:;<=>?@[\\]^_`{|}~', lower=True)\n",
    "tokenizer.fit_on_texts(df['message'].values)\n",
    "X = tokenizer.texts_to_sequences(df['message'].values)\n",
    "X= pad_sequences(X, maxlen=20)"
   ]
  },
  {
   "cell_type": "code",
   "execution_count": 23,
   "id": "34e86748-996d-4103-ab9c-895987a157f7",
   "metadata": {},
   "outputs": [
    {
     "name": "stderr",
     "output_type": "stream",
     "text": [
      "100%|███████████████████████████████████████████████████████████████████████| 74682/74682 [00:00<00:00, 2310073.32it/s]\n"
     ]
    }
   ],
   "source": [
    "d2v_model = Doc2Vec(dm=1, dm_mean=1, min_count = 1, window = 8, vector_size = 300, alpha = 0.01, workers = -1)\n",
    "d2v_model.build_vocab([x for x in tqdm(df_tagged.values)])"
   ]
  },
  {
   "cell_type": "code",
   "execution_count": 24,
   "id": "97e51914-df41-48ac-a5e3-ee6552bbabac",
   "metadata": {
    "scrolled": true
   },
   "outputs": [
    {
     "name": "stderr",
     "output_type": "stream",
     "text": [
      "100%|███████████████████████████████████████████████████████████████████████| 74682/74682 [00:00<00:00, 2339892.07it/s]\n"
     ]
    },
    {
     "name": "stdout",
     "output_type": "stream",
     "text": [
      "0.01\n"
     ]
    },
    {
     "name": "stderr",
     "output_type": "stream",
     "text": [
      "100%|████████████████████████████████████████████████████████████████████████| 74682/74682 [00:00<00:00, 488226.07it/s]\n"
     ]
    },
    {
     "name": "stdout",
     "output_type": "stream",
     "text": [
      "0.01\n"
     ]
    },
    {
     "name": "stderr",
     "output_type": "stream",
     "text": [
      "100%|███████████████████████████████████████████████████████████████████████| 74682/74682 [00:00<00:00, 1109556.91it/s]\n"
     ]
    },
    {
     "name": "stdout",
     "output_type": "stream",
     "text": [
      "0.01\n"
     ]
    },
    {
     "name": "stderr",
     "output_type": "stream",
     "text": [
      "100%|████████████████████████████████████████████████████████████████████████| 74682/74682 [00:00<00:00, 933181.03it/s]\n"
     ]
    },
    {
     "name": "stdout",
     "output_type": "stream",
     "text": [
      "0.01\n"
     ]
    },
    {
     "name": "stderr",
     "output_type": "stream",
     "text": [
      "100%|███████████████████████████████████████████████████████████████████████| 74682/74682 [00:00<00:00, 1904095.92it/s]\n"
     ]
    },
    {
     "name": "stdout",
     "output_type": "stream",
     "text": [
      "0.01\n"
     ]
    },
    {
     "name": "stderr",
     "output_type": "stream",
     "text": [
      "100%|███████████████████████████████████████████████████████████████████████| 74682/74682 [00:00<00:00, 1051448.12it/s]\n"
     ]
    },
    {
     "name": "stdout",
     "output_type": "stream",
     "text": [
      "0.01\n"
     ]
    },
    {
     "name": "stderr",
     "output_type": "stream",
     "text": [
      "100%|████████████████████████████████████████████████████████████████████████| 74682/74682 [00:00<00:00, 631474.25it/s]\n"
     ]
    },
    {
     "name": "stdout",
     "output_type": "stream",
     "text": [
      "0.01\n"
     ]
    },
    {
     "name": "stderr",
     "output_type": "stream",
     "text": [
      "100%|███████████████████████████████████████████████████████████████████████| 74682/74682 [00:00<00:00, 1355121.35it/s]\n"
     ]
    },
    {
     "name": "stdout",
     "output_type": "stream",
     "text": [
      "0.01\n"
     ]
    },
    {
     "name": "stderr",
     "output_type": "stream",
     "text": [
      "100%|███████████████████████████████████████████████████████████████████████| 74682/74682 [00:00<00:00, 1842614.94it/s]\n"
     ]
    },
    {
     "name": "stdout",
     "output_type": "stream",
     "text": [
      "0.01\n"
     ]
    },
    {
     "name": "stderr",
     "output_type": "stream",
     "text": [
      "100%|████████████████████████████████████████████████████████████████████████| 74682/74682 [00:00<00:00, 850924.74it/s]\n"
     ]
    },
    {
     "name": "stdout",
     "output_type": "stream",
     "text": [
      "0.01\n"
     ]
    },
    {
     "name": "stderr",
     "output_type": "stream",
     "text": [
      "100%|███████████████████████████████████████████████████████████████████████| 74682/74682 [00:00<00:00, 1822375.49it/s]\n"
     ]
    },
    {
     "name": "stdout",
     "output_type": "stream",
     "text": [
      "0.01\n"
     ]
    },
    {
     "name": "stderr",
     "output_type": "stream",
     "text": [
      "100%|███████████████████████████████████████████████████████████████████████| 74682/74682 [00:00<00:00, 2117137.84it/s]\n"
     ]
    },
    {
     "name": "stdout",
     "output_type": "stream",
     "text": [
      "0.01\n"
     ]
    },
    {
     "name": "stderr",
     "output_type": "stream",
     "text": [
      "100%|███████████████████████████████████████████████████████████████████████| 74682/74682 [00:00<00:00, 1713364.50it/s]\n"
     ]
    },
    {
     "name": "stdout",
     "output_type": "stream",
     "text": [
      "0.01\n"
     ]
    },
    {
     "name": "stderr",
     "output_type": "stream",
     "text": [
      "100%|███████████████████████████████████████████████████████████████████████| 74682/74682 [00:00<00:00, 1113232.06it/s]\n"
     ]
    },
    {
     "name": "stdout",
     "output_type": "stream",
     "text": [
      "0.01\n"
     ]
    },
    {
     "name": "stderr",
     "output_type": "stream",
     "text": [
      "100%|███████████████████████████████████████████████████████████████████████| 74682/74682 [00:00<00:00, 3362701.54it/s]\n"
     ]
    },
    {
     "name": "stdout",
     "output_type": "stream",
     "text": [
      "0.01\n"
     ]
    },
    {
     "name": "stderr",
     "output_type": "stream",
     "text": [
      "100%|███████████████████████████████████████████████████████████████████████| 74682/74682 [00:00<00:00, 2003985.79it/s]\n"
     ]
    },
    {
     "name": "stdout",
     "output_type": "stream",
     "text": [
      "0.01\n"
     ]
    },
    {
     "name": "stderr",
     "output_type": "stream",
     "text": [
      "100%|███████████████████████████████████████████████████████████████████████| 74682/74682 [00:00<00:00, 1928882.91it/s]\n"
     ]
    },
    {
     "name": "stdout",
     "output_type": "stream",
     "text": [
      "0.01\n"
     ]
    },
    {
     "name": "stderr",
     "output_type": "stream",
     "text": [
      "100%|███████████████████████████████████████████████████████████████████████| 74682/74682 [00:00<00:00, 2031289.18it/s]\n"
     ]
    },
    {
     "name": "stdout",
     "output_type": "stream",
     "text": [
      "0.01\n"
     ]
    },
    {
     "name": "stderr",
     "output_type": "stream",
     "text": [
      "100%|████████████████████████████████████████████████████████████████████████| 74682/74682 [00:00<00:00, 932917.00it/s]\n"
     ]
    },
    {
     "name": "stdout",
     "output_type": "stream",
     "text": [
      "0.01\n"
     ]
    },
    {
     "name": "stderr",
     "output_type": "stream",
     "text": [
      "100%|███████████████████████████████████████████████████████████████████████| 74682/74682 [00:00<00:00, 1906297.61it/s]\n"
     ]
    },
    {
     "name": "stdout",
     "output_type": "stream",
     "text": [
      "0.01\n"
     ]
    },
    {
     "name": "stderr",
     "output_type": "stream",
     "text": [
      "100%|███████████████████████████████████████████████████████████████████████| 74682/74682 [00:00<00:00, 1746689.18it/s]\n"
     ]
    },
    {
     "name": "stdout",
     "output_type": "stream",
     "text": [
      "0.01\n"
     ]
    },
    {
     "name": "stderr",
     "output_type": "stream",
     "text": [
      "100%|███████████████████████████████████████████████████████████████████████| 74682/74682 [00:00<00:00, 1521545.31it/s]\n"
     ]
    },
    {
     "name": "stdout",
     "output_type": "stream",
     "text": [
      "0.01\n"
     ]
    },
    {
     "name": "stderr",
     "output_type": "stream",
     "text": [
      "100%|███████████████████████████████████████████████████████████████████████| 74682/74682 [00:00<00:00, 1189774.27it/s]\n"
     ]
    },
    {
     "name": "stdout",
     "output_type": "stream",
     "text": [
      "0.01\n"
     ]
    },
    {
     "name": "stderr",
     "output_type": "stream",
     "text": [
      "100%|███████████████████████████████████████████████████████████████████████| 74682/74682 [00:00<00:00, 3038412.03it/s]\n"
     ]
    },
    {
     "name": "stdout",
     "output_type": "stream",
     "text": [
      "0.01\n"
     ]
    },
    {
     "name": "stderr",
     "output_type": "stream",
     "text": [
      "100%|███████████████████████████████████████████████████████████████████████| 74682/74682 [00:00<00:00, 3204819.02it/s]\n"
     ]
    },
    {
     "name": "stdout",
     "output_type": "stream",
     "text": [
      "0.01\n"
     ]
    },
    {
     "name": "stderr",
     "output_type": "stream",
     "text": [
      "100%|███████████████████████████████████████████████████████████████████████| 74682/74682 [00:00<00:00, 2595229.51it/s]\n"
     ]
    },
    {
     "name": "stdout",
     "output_type": "stream",
     "text": [
      "0.01\n"
     ]
    },
    {
     "name": "stderr",
     "output_type": "stream",
     "text": [
      "100%|███████████████████████████████████████████████████████████████████████| 74682/74682 [00:00<00:00, 1592900.03it/s]\n"
     ]
    },
    {
     "name": "stdout",
     "output_type": "stream",
     "text": [
      "0.01\n"
     ]
    },
    {
     "name": "stderr",
     "output_type": "stream",
     "text": [
      "100%|███████████████████████████████████████████████████████████████████████| 74682/74682 [00:00<00:00, 2390206.95it/s]\n"
     ]
    },
    {
     "name": "stdout",
     "output_type": "stream",
     "text": [
      "0.01\n"
     ]
    },
    {
     "name": "stderr",
     "output_type": "stream",
     "text": [
      "100%|███████████████████████████████████████████████████████████████████████| 74682/74682 [00:00<00:00, 2390498.81it/s]\n"
     ]
    },
    {
     "name": "stdout",
     "output_type": "stream",
     "text": [
      "0.01\n"
     ]
    },
    {
     "name": "stderr",
     "output_type": "stream",
     "text": [
      "100%|████████████████████████████████████████████████████████████████████████| 74682/74682 [00:00<00:00, 796603.95it/s]\n"
     ]
    },
    {
     "name": "stdout",
     "output_type": "stream",
     "text": [
      "0.01\n"
     ]
    },
    {
     "name": "stderr",
     "output_type": "stream",
     "text": [
      "100%|███████████████████████████████████████████████████████████████████████| 74682/74682 [00:00<00:00, 2391046.23it/s]\n"
     ]
    },
    {
     "name": "stdout",
     "output_type": "stream",
     "text": [
      "0.01\n"
     ]
    },
    {
     "name": "stderr",
     "output_type": "stream",
     "text": [
      "100%|███████████████████████████████████████████████████████████████████████| 74682/74682 [00:00<00:00, 1145599.61it/s]\n"
     ]
    },
    {
     "name": "stdout",
     "output_type": "stream",
     "text": [
      "0.01\n"
     ]
    },
    {
     "name": "stderr",
     "output_type": "stream",
     "text": [
      "100%|████████████████████████████████████████████████████████████████████████| 74682/74682 [00:00<00:00, 949856.75it/s]\n"
     ]
    },
    {
     "name": "stdout",
     "output_type": "stream",
     "text": [
      "0.01\n"
     ]
    },
    {
     "name": "stderr",
     "output_type": "stream",
     "text": [
      "100%|███████████████████████████████████████████████████████████████████████| 74682/74682 [00:00<00:00, 1029707.27it/s]\n"
     ]
    },
    {
     "name": "stdout",
     "output_type": "stream",
     "text": [
      "0.01\n"
     ]
    },
    {
     "name": "stderr",
     "output_type": "stream",
     "text": [
      "100%|███████████████████████████████████████████████████████████████████████| 74682/74682 [00:00<00:00, 2389696.38it/s]\n"
     ]
    },
    {
     "name": "stdout",
     "output_type": "stream",
     "text": [
      "0.01\n"
     ]
    },
    {
     "name": "stderr",
     "output_type": "stream",
     "text": [
      "100%|███████████████████████████████████████████████████████████████████████| 74682/74682 [00:00<00:00, 2388730.53it/s]\n"
     ]
    },
    {
     "name": "stdout",
     "output_type": "stream",
     "text": [
      "0.01\n"
     ]
    },
    {
     "name": "stderr",
     "output_type": "stream",
     "text": [
      "100%|███████████████████████████████████████████████████████████████████████| 74682/74682 [00:00<00:00, 2390170.48it/s]\n"
     ]
    },
    {
     "name": "stdout",
     "output_type": "stream",
     "text": [
      "0.01\n"
     ]
    },
    {
     "name": "stderr",
     "output_type": "stream",
     "text": [
      "100%|███████████████████████████████████████████████████████████████████████| 74682/74682 [00:00<00:00, 2389222.47it/s]\n"
     ]
    },
    {
     "name": "stdout",
     "output_type": "stream",
     "text": [
      "0.01\n"
     ]
    },
    {
     "name": "stderr",
     "output_type": "stream",
     "text": [
      "100%|███████████████████████████████████████████████████████████████████████| 74682/74682 [00:00<00:00, 1592964.83it/s]\n"
     ]
    },
    {
     "name": "stdout",
     "output_type": "stream",
     "text": [
      "0.01\n"
     ]
    },
    {
     "name": "stderr",
     "output_type": "stream",
     "text": [
      "100%|████████████████████████████████████████████████████████████████████████| 74682/74682 [00:00<00:00, 849980.36it/s]\n"
     ]
    },
    {
     "name": "stdout",
     "output_type": "stream",
     "text": [
      "0.01\n"
     ]
    },
    {
     "name": "stderr",
     "output_type": "stream",
     "text": [
      "100%|███████████████████████████████████████████████████████████████████████| 74682/74682 [00:00<00:00, 2389550.54it/s]\n"
     ]
    },
    {
     "name": "stdout",
     "output_type": "stream",
     "text": [
      "0.01\n"
     ]
    },
    {
     "name": "stderr",
     "output_type": "stream",
     "text": [
      "100%|███████████████████████████████████████████████████████████████████████| 74682/74682 [00:00<00:00, 2389714.61it/s]\n"
     ]
    },
    {
     "name": "stdout",
     "output_type": "stream",
     "text": [
      "0.01\n"
     ]
    },
    {
     "name": "stderr",
     "output_type": "stream",
     "text": [
      "100%|███████████████████████████████████████████████████████████████████████| 74682/74682 [00:00<00:00, 2389550.54it/s]\n"
     ]
    },
    {
     "name": "stdout",
     "output_type": "stream",
     "text": [
      "0.01\n"
     ]
    },
    {
     "name": "stderr",
     "output_type": "stream",
     "text": [
      "100%|███████████████████████████████████████████████████████████████████████| 74682/74682 [00:00<00:00, 1195231.16it/s]\n"
     ]
    },
    {
     "name": "stdout",
     "output_type": "stream",
     "text": [
      "0.01\n"
     ]
    },
    {
     "name": "stderr",
     "output_type": "stream",
     "text": [
      "100%|███████████████████████████████████████████████████████████████████████| 74682/74682 [00:00<00:00, 2390006.34it/s]\n"
     ]
    },
    {
     "name": "stdout",
     "output_type": "stream",
     "text": [
      "0.01\n"
     ]
    },
    {
     "name": "stderr",
     "output_type": "stream",
     "text": [
      "100%|███████████████████████████████████████████████████████████████████████| 74682/74682 [00:00<00:00, 4784758.67it/s]\n"
     ]
    },
    {
     "name": "stdout",
     "output_type": "stream",
     "text": [
      "0.01\n"
     ]
    },
    {
     "name": "stderr",
     "output_type": "stream",
     "text": [
      "100%|███████████████████████████████████████████████████████████████████████| 74682/74682 [00:00<00:00, 2389732.84it/s]\n"
     ]
    },
    {
     "name": "stdout",
     "output_type": "stream",
     "text": [
      "0.01\n"
     ]
    },
    {
     "name": "stderr",
     "output_type": "stream",
     "text": [
      "100%|███████████████████████████████████████████████████████████████████████| 74682/74682 [00:00<00:00, 2388366.26it/s]\n"
     ]
    },
    {
     "name": "stdout",
     "output_type": "stream",
     "text": [
      "0.01\n"
     ]
    },
    {
     "name": "stderr",
     "output_type": "stream",
     "text": [
      "100%|███████████████████████████████████████████████████████████████████████| 74682/74682 [00:00<00:00, 2389787.53it/s]\n"
     ]
    },
    {
     "name": "stdout",
     "output_type": "stream",
     "text": [
      "0.01\n"
     ]
    },
    {
     "name": "stderr",
     "output_type": "stream",
     "text": [
      "100%|███████████████████████████████████████████████████████████████████████| 74682/74682 [00:00<00:00, 4783443.46it/s]\n"
     ]
    },
    {
     "name": "stdout",
     "output_type": "stream",
     "text": [
      "0.01\n"
     ]
    },
    {
     "name": "stderr",
     "output_type": "stream",
     "text": [
      "100%|███████████████████████████████████████████████████████████████████████| 74682/74682 [00:00<00:00, 2391959.16it/s]\n"
     ]
    },
    {
     "name": "stdout",
     "output_type": "stream",
     "text": [
      "0.01\n"
     ]
    },
    {
     "name": "stderr",
     "output_type": "stream",
     "text": [
      "100%|███████████████████████████████████████████████████████████████████████| 74682/74682 [00:00<00:00, 1593499.67it/s]\n"
     ]
    },
    {
     "name": "stdout",
     "output_type": "stream",
     "text": [
      "0.01\n"
     ]
    },
    {
     "name": "stderr",
     "output_type": "stream",
     "text": [
      "100%|███████████████████████████████████████████████████████████████████████| 74682/74682 [00:00<00:00, 2389732.84it/s]\n"
     ]
    },
    {
     "name": "stdout",
     "output_type": "stream",
     "text": [
      "0.01\n"
     ]
    },
    {
     "name": "stderr",
     "output_type": "stream",
     "text": [
      "100%|████████████████████████████████████████████████████████████████████████| 74682/74682 [00:00<00:00, 390359.63it/s]\n"
     ]
    },
    {
     "name": "stdout",
     "output_type": "stream",
     "text": [
      "0.01\n"
     ]
    },
    {
     "name": "stderr",
     "output_type": "stream",
     "text": [
      "100%|███████████████████████████████████████████████████████████████████████| 74682/74682 [00:00<00:00, 1566257.71it/s]\n"
     ]
    },
    {
     "name": "stdout",
     "output_type": "stream",
     "text": [
      "0.01\n"
     ]
    },
    {
     "name": "stderr",
     "output_type": "stream",
     "text": [
      "100%|███████████████████████████████████████████████████████████████████████| 74682/74682 [00:00<00:00, 2389678.15it/s]\n"
     ]
    },
    {
     "name": "stdout",
     "output_type": "stream",
     "text": [
      "0.01\n"
     ]
    },
    {
     "name": "stderr",
     "output_type": "stream",
     "text": [
      "100%|███████████████████████████████████████████████████████████████████████| 74682/74682 [00:00<00:00, 2389258.91it/s]\n"
     ]
    },
    {
     "name": "stdout",
     "output_type": "stream",
     "text": [
      "0.01\n"
     ]
    },
    {
     "name": "stderr",
     "output_type": "stream",
     "text": [
      "100%|███████████████████████████████████████████████████████████████████████| 74682/74682 [00:00<00:00, 2388821.61it/s]\n"
     ]
    },
    {
     "name": "stdout",
     "output_type": "stream",
     "text": [
      "0.01\n"
     ]
    },
    {
     "name": "stderr",
     "output_type": "stream",
     "text": [
      "100%|███████████████████████████████████████████████████████████████████████| 74682/74682 [00:00<00:00, 1195089.80it/s]\n"
     ]
    },
    {
     "name": "stdout",
     "output_type": "stream",
     "text": [
      "0.01\n"
     ]
    },
    {
     "name": "stderr",
     "output_type": "stream",
     "text": [
      "100%|███████████████████████████████████████████████████████████████████████| 74682/74682 [00:00<00:00, 1593086.35it/s]\n"
     ]
    },
    {
     "name": "stdout",
     "output_type": "stream",
     "text": [
      "0.01\n"
     ]
    },
    {
     "name": "stderr",
     "output_type": "stream",
     "text": [
      "100%|███████████████████████████████████████████████████████████████████████| 74682/74682 [00:00<00:00, 2389204.24it/s]\n"
     ]
    },
    {
     "name": "stdout",
     "output_type": "stream",
     "text": [
      "0.01\n"
     ]
    },
    {
     "name": "stderr",
     "output_type": "stream",
     "text": [
      "100%|███████████████████████████████████████████████████████████████████████| 74682/74682 [00:00<00:00, 1592940.53it/s]\n"
     ]
    },
    {
     "name": "stdout",
     "output_type": "stream",
     "text": [
      "0.01\n"
     ]
    },
    {
     "name": "stderr",
     "output_type": "stream",
     "text": [
      "100%|████████████████████████████████████████████████████████████████████████| 74682/74682 [00:00<00:00, 785897.29it/s]\n"
     ]
    },
    {
     "name": "stdout",
     "output_type": "stream",
     "text": [
      "0.01\n"
     ]
    },
    {
     "name": "stderr",
     "output_type": "stream",
     "text": [
      "100%|███████████████████████████████████████████████████████████████████████| 74682/74682 [00:00<00:00, 1589118.09it/s]\n"
     ]
    },
    {
     "name": "stdout",
     "output_type": "stream",
     "text": [
      "0.01\n"
     ]
    },
    {
     "name": "stderr",
     "output_type": "stream",
     "text": [
      "100%|███████████████████████████████████████████████████████████████████████| 74682/74682 [00:00<00:00, 2391046.23it/s]\n"
     ]
    },
    {
     "name": "stdout",
     "output_type": "stream",
     "text": [
      "0.01\n"
     ]
    },
    {
     "name": "stderr",
     "output_type": "stream",
     "text": [
      "100%|███████████████████████████████████████████████████████████████████████| 74682/74682 [00:00<00:00, 1593507.78it/s]\n"
     ]
    },
    {
     "name": "stdout",
     "output_type": "stream",
     "text": [
      "0.01\n"
     ]
    },
    {
     "name": "stderr",
     "output_type": "stream",
     "text": [
      "100%|███████████████████████████████████████████████████████████████████████| 74682/74682 [00:00<00:00, 2390243.43it/s]\n"
     ]
    },
    {
     "name": "stdout",
     "output_type": "stream",
     "text": [
      "0.01\n"
     ]
    },
    {
     "name": "stderr",
     "output_type": "stream",
     "text": [
      "100%|███████████████████████████████████████████████████████████████████████| 74682/74682 [00:00<00:00, 4189479.61it/s]\n"
     ]
    },
    {
     "name": "stdout",
     "output_type": "stream",
     "text": [
      "0.01\n"
     ]
    },
    {
     "name": "stderr",
     "output_type": "stream",
     "text": [
      "100%|███████████████████████████████████████████████████████████████████████| 74682/74682 [00:00<00:00, 2388730.53it/s]\n"
     ]
    },
    {
     "name": "stdout",
     "output_type": "stream",
     "text": [
      "0.01\n"
     ]
    },
    {
     "name": "stderr",
     "output_type": "stream",
     "text": [
      "100%|███████████████████████████████████████████████████████████████████████| 74682/74682 [00:00<00:00, 2293564.70it/s]\n"
     ]
    },
    {
     "name": "stdout",
     "output_type": "stream",
     "text": [
      "0.01\n"
     ]
    },
    {
     "name": "stderr",
     "output_type": "stream",
     "text": [
      "100%|███████████████████████████████████████████████████████████████████████| 74682/74682 [00:00<00:00, 2391009.73it/s]\n"
     ]
    },
    {
     "name": "stdout",
     "output_type": "stream",
     "text": [
      "0.01\n"
     ]
    },
    {
     "name": "stderr",
     "output_type": "stream",
     "text": [
      "100%|███████████████████████████████████████████████████████████████████████| 74682/74682 [00:00<00:00, 2389860.47it/s]\n"
     ]
    },
    {
     "name": "stdout",
     "output_type": "stream",
     "text": [
      "0.01\n"
     ]
    },
    {
     "name": "stderr",
     "output_type": "stream",
     "text": [
      "100%|███████████████████████████████████████████████████████████████████████| 74682/74682 [00:00<00:00, 1194925.67it/s]\n"
     ]
    },
    {
     "name": "stdout",
     "output_type": "stream",
     "text": [
      "0.01\n"
     ]
    },
    {
     "name": "stderr",
     "output_type": "stream",
     "text": [
      "100%|████████████████████████████████████████████████████████████████████████| 74682/74682 [00:00<00:00, 926432.91it/s]\n"
     ]
    },
    {
     "name": "stdout",
     "output_type": "stream",
     "text": [
      "0.01\n"
     ]
    },
    {
     "name": "stderr",
     "output_type": "stream",
     "text": [
      "100%|███████████████████████████████████████████████████████████████████████| 74682/74682 [00:00<00:00, 2325888.33it/s]\n"
     ]
    },
    {
     "name": "stdout",
     "output_type": "stream",
     "text": [
      "0.01\n"
     ]
    },
    {
     "name": "stderr",
     "output_type": "stream",
     "text": [
      "100%|███████████████████████████████████████████████████████████████████████| 74682/74682 [00:00<00:00, 2388821.61it/s]\n"
     ]
    },
    {
     "name": "stdout",
     "output_type": "stream",
     "text": [
      "0.01\n"
     ]
    },
    {
     "name": "stderr",
     "output_type": "stream",
     "text": [
      "100%|███████████████████████████████████████████████████████████████████████| 74682/74682 [00:00<00:00, 1172130.61it/s]\n"
     ]
    },
    {
     "name": "stdout",
     "output_type": "stream",
     "text": [
      "0.01\n"
     ]
    },
    {
     "name": "stderr",
     "output_type": "stream",
     "text": [
      "100%|███████████████████████████████████████████████████████████████████████| 74682/74682 [00:00<00:00, 4756928.90it/s]\n"
     ]
    },
    {
     "name": "stdout",
     "output_type": "stream",
     "text": [
      "0.01\n"
     ]
    },
    {
     "name": "stderr",
     "output_type": "stream",
     "text": [
      "100%|███████████████████████████████████████████████████████████████████████| 74682/74682 [00:00<00:00, 2390681.25it/s]\n"
     ]
    },
    {
     "name": "stdout",
     "output_type": "stream",
     "text": [
      "0.01\n"
     ]
    },
    {
     "name": "stderr",
     "output_type": "stream",
     "text": [
      "100%|████████████████████████████████████████████████████████████████████████| 74682/74682 [00:00<00:00, 682847.05it/s]\n"
     ]
    },
    {
     "name": "stdout",
     "output_type": "stream",
     "text": [
      "0.01\n"
     ]
    },
    {
     "name": "stderr",
     "output_type": "stream",
     "text": [
      "100%|████████████████████████████████████████████████████████████████████████| 74682/74682 [00:00<00:00, 526073.70it/s]\n"
     ]
    },
    {
     "name": "stdout",
     "output_type": "stream",
     "text": [
      "0.01\n"
     ]
    },
    {
     "name": "stderr",
     "output_type": "stream",
     "text": [
      "100%|███████████████████████████████████████████████████████████████████████| 74682/74682 [00:00<00:00, 3932841.30it/s]\n"
     ]
    },
    {
     "name": "stdout",
     "output_type": "stream",
     "text": [
      "0.01\n"
     ]
    },
    {
     "name": "stderr",
     "output_type": "stream",
     "text": [
      "100%|███████████████████████████████████████████████████████████████████████| 74682/74682 [00:00<00:00, 2547300.63it/s]\n"
     ]
    },
    {
     "name": "stdout",
     "output_type": "stream",
     "text": [
      "0.01\n"
     ]
    },
    {
     "name": "stderr",
     "output_type": "stream",
     "text": [
      "100%|███████████████████████████████████████████████████████████████████████| 74682/74682 [00:00<00:00, 2406846.30it/s]\n"
     ]
    },
    {
     "name": "stdout",
     "output_type": "stream",
     "text": [
      "0.01\n"
     ]
    },
    {
     "name": "stderr",
     "output_type": "stream",
     "text": [
      "100%|███████████████████████████████████████████████████████████████████████| 74682/74682 [00:00<00:00, 3702982.72it/s]\n"
     ]
    },
    {
     "name": "stdout",
     "output_type": "stream",
     "text": [
      "0.01\n"
     ]
    },
    {
     "name": "stderr",
     "output_type": "stream",
     "text": [
      "100%|███████████████████████████████████████████████████████████████████████| 74682/74682 [00:00<00:00, 2382589.27it/s]\n"
     ]
    },
    {
     "name": "stdout",
     "output_type": "stream",
     "text": [
      "0.01\n"
     ]
    },
    {
     "name": "stderr",
     "output_type": "stream",
     "text": [
      "100%|███████████████████████████████████████████████████████████████████████| 74682/74682 [00:00<00:00, 2294640.00it/s]\n"
     ]
    },
    {
     "name": "stdout",
     "output_type": "stream",
     "text": [
      "0.01\n"
     ]
    },
    {
     "name": "stderr",
     "output_type": "stream",
     "text": [
      "100%|███████████████████████████████████████████████████████████████████████| 74682/74682 [00:00<00:00, 2369809.21it/s]\n"
     ]
    },
    {
     "name": "stdout",
     "output_type": "stream",
     "text": [
      "0.01\n"
     ]
    },
    {
     "name": "stderr",
     "output_type": "stream",
     "text": [
      "100%|███████████████████████████████████████████████████████████████████████| 74682/74682 [00:00<00:00, 1180341.44it/s]\n"
     ]
    },
    {
     "name": "stdout",
     "output_type": "stream",
     "text": [
      "0.01\n"
     ]
    },
    {
     "name": "stderr",
     "output_type": "stream",
     "text": [
      "100%|███████████████████████████████████████████████████████████████████████| 74682/74682 [00:00<00:00, 2385020.19it/s]\n"
     ]
    },
    {
     "name": "stdout",
     "output_type": "stream",
     "text": [
      "0.01\n"
     ]
    },
    {
     "name": "stderr",
     "output_type": "stream",
     "text": [
      "100%|███████████████████████████████████████████████████████████████████████| 74682/74682 [00:00<00:00, 2240205.77it/s]\n"
     ]
    },
    {
     "name": "stdout",
     "output_type": "stream",
     "text": [
      "0.01\n"
     ]
    },
    {
     "name": "stderr",
     "output_type": "stream",
     "text": [
      "100%|███████████████████████████████████████████████████████████████████████| 74682/74682 [00:00<00:00, 1359125.49it/s]\n"
     ]
    },
    {
     "name": "stdout",
     "output_type": "stream",
     "text": [
      "0.01\n"
     ]
    },
    {
     "name": "stderr",
     "output_type": "stream",
     "text": [
      "100%|███████████████████████████████████████████████████████████████████████| 74682/74682 [00:00<00:00, 2390371.11it/s]\n"
     ]
    },
    {
     "name": "stdout",
     "output_type": "stream",
     "text": [
      "0.01\n"
     ]
    },
    {
     "name": "stderr",
     "output_type": "stream",
     "text": [
      "100%|███████████████████████████████████████████████████████████████████████| 74682/74682 [00:00<00:00, 2389896.93it/s]\n"
     ]
    },
    {
     "name": "stdout",
     "output_type": "stream",
     "text": [
      "0.01\n"
     ]
    },
    {
     "name": "stderr",
     "output_type": "stream",
     "text": [
      "100%|███████████████████████████████████████████████████████████████████████| 74682/74682 [00:00<00:00, 2390663.01it/s]\n"
     ]
    },
    {
     "name": "stdout",
     "output_type": "stream",
     "text": [
      "0.01\n"
     ]
    },
    {
     "name": "stderr",
     "output_type": "stream",
     "text": [
      "100%|███████████████████████████████████████████████████████████████████████| 74682/74682 [00:00<00:00, 1194912.00it/s]\n"
     ]
    },
    {
     "name": "stdout",
     "output_type": "stream",
     "text": [
      "0.01\n"
     ]
    },
    {
     "name": "stderr",
     "output_type": "stream",
     "text": [
      "100%|███████████████████████████████████████████████████████████████████████| 74682/74682 [00:00<00:00, 1843699.48it/s]\n"
     ]
    },
    {
     "name": "stdout",
     "output_type": "stream",
     "text": [
      "0.01\n"
     ]
    },
    {
     "name": "stderr",
     "output_type": "stream",
     "text": [
      "100%|███████████████████████████████████████████████████████████████████████| 74682/74682 [00:00<00:00, 4176241.73it/s]\n"
     ]
    },
    {
     "name": "stdout",
     "output_type": "stream",
     "text": [
      "0.01\n"
     ]
    },
    {
     "name": "stderr",
     "output_type": "stream",
     "text": [
      "100%|███████████████████████████████████████████████████████████████████████| 74682/74682 [00:00<00:00, 2389477.62it/s]\n"
     ]
    },
    {
     "name": "stdout",
     "output_type": "stream",
     "text": [
      "0.01\n"
     ]
    },
    {
     "name": "stderr",
     "output_type": "stream",
     "text": [
      "100%|███████████████████████████████████████████████████████████████████████| 74682/74682 [00:00<00:00, 1593240.31it/s]\n"
     ]
    },
    {
     "name": "stdout",
     "output_type": "stream",
     "text": [
      "0.01\n"
     ]
    },
    {
     "name": "stderr",
     "output_type": "stream",
     "text": [
      "100%|███████████████████████████████████████████████████████████████████████| 74682/74682 [00:00<00:00, 1579964.45it/s]\n"
     ]
    },
    {
     "name": "stdout",
     "output_type": "stream",
     "text": [
      "0.01\n"
     ]
    },
    {
     "name": "stderr",
     "output_type": "stream",
     "text": [
      "100%|███████████████████████████████████████████████████████████████████████| 74682/74682 [00:00<00:00, 2736596.20it/s]\n"
     ]
    },
    {
     "name": "stdout",
     "output_type": "stream",
     "text": [
      "0.01\n"
     ]
    },
    {
     "name": "stderr",
     "output_type": "stream",
     "text": [
      "100%|███████████████████████████████████████████████████████████████████████| 74682/74682 [00:00<00:00, 4003975.50it/s]\n"
     ]
    },
    {
     "name": "stdout",
     "output_type": "stream",
     "text": [
      "0.01\n"
     ]
    },
    {
     "name": "stderr",
     "output_type": "stream",
     "text": [
      "100%|███████████████████████████████████████████████████████████████████████| 74682/74682 [00:00<00:00, 2388694.09it/s]\n"
     ]
    },
    {
     "name": "stdout",
     "output_type": "stream",
     "text": [
      "0.01\n"
     ]
    },
    {
     "name": "stderr",
     "output_type": "stream",
     "text": [
      "100%|███████████████████████████████████████████████████████████████████████| 74682/74682 [00:00<00:00, 2519618.82it/s]\n"
     ]
    },
    {
     "name": "stdout",
     "output_type": "stream",
     "text": [
      "0.01\n"
     ]
    },
    {
     "name": "stderr",
     "output_type": "stream",
     "text": [
      "100%|███████████████████████████████████████████████████████████████████████| 74682/74682 [00:00<00:00, 4767354.26it/s]\n"
     ]
    },
    {
     "name": "stdout",
     "output_type": "stream",
     "text": [
      "0.01\n"
     ]
    },
    {
     "name": "stderr",
     "output_type": "stream",
     "text": [
      "100%|███████████████████████████████████████████████████████████████████████| 74682/74682 [00:00<00:00, 1911684.18it/s]\n"
     ]
    },
    {
     "name": "stdout",
     "output_type": "stream",
     "text": [
      "0.01\n"
     ]
    },
    {
     "name": "stderr",
     "output_type": "stream",
     "text": [
      "100%|███████████████████████████████████████████████████████████████████████| 74682/74682 [00:00<00:00, 1617176.55it/s]\n"
     ]
    },
    {
     "name": "stdout",
     "output_type": "stream",
     "text": [
      "0.01\n"
     ]
    },
    {
     "name": "stderr",
     "output_type": "stream",
     "text": [
      "100%|███████████████████████████████████████████████████████████████████████| 74682/74682 [00:00<00:00, 2339594.96it/s]\n"
     ]
    },
    {
     "name": "stdout",
     "output_type": "stream",
     "text": [
      "0.01\n"
     ]
    },
    {
     "name": "stderr",
     "output_type": "stream",
     "text": [
      "100%|███████████████████████████████████████████████████████████████████████| 74682/74682 [00:00<00:00, 2361109.94it/s]\n"
     ]
    },
    {
     "name": "stdout",
     "output_type": "stream",
     "text": [
      "0.01\n"
     ]
    },
    {
     "name": "stderr",
     "output_type": "stream",
     "text": [
      "100%|███████████████████████████████████████████████████████████████████████| 74682/74682 [00:00<00:00, 4635358.87it/s]\n"
     ]
    },
    {
     "name": "stdout",
     "output_type": "stream",
     "text": [
      "0.01\n"
     ]
    },
    {
     "name": "stderr",
     "output_type": "stream",
     "text": [
      "100%|███████████████████████████████████████████████████████████████████████| 74682/74682 [00:00<00:00, 2283515.91it/s]\n"
     ]
    },
    {
     "name": "stdout",
     "output_type": "stream",
     "text": [
      "0.01\n"
     ]
    },
    {
     "name": "stderr",
     "output_type": "stream",
     "text": [
      "100%|███████████████████████████████████████████████████████████████████████| 74682/74682 [00:00<00:00, 2389824.00it/s]\n"
     ]
    },
    {
     "name": "stdout",
     "output_type": "stream",
     "text": [
      "0.01\n"
     ]
    },
    {
     "name": "stderr",
     "output_type": "stream",
     "text": [
      "100%|███████████████████████████████████████████████████████████████████████| 74682/74682 [00:00<00:00, 2390334.63it/s]\n"
     ]
    },
    {
     "name": "stdout",
     "output_type": "stream",
     "text": [
      "0.01\n"
     ]
    },
    {
     "name": "stderr",
     "output_type": "stream",
     "text": [
      "100%|███████████████████████████████████████████████████████████████████████| 74682/74682 [00:00<00:00, 4781544.98it/s]\n"
     ]
    },
    {
     "name": "stdout",
     "output_type": "stream",
     "text": [
      "0.01\n"
     ]
    },
    {
     "name": "stderr",
     "output_type": "stream",
     "text": [
      "100%|████████████████████████████████████████████████████████████████████████| 74682/74682 [00:00<00:00, 325030.80it/s]\n"
     ]
    },
    {
     "name": "stdout",
     "output_type": "stream",
     "text": [
      "0.01\n"
     ]
    },
    {
     "name": "stderr",
     "output_type": "stream",
     "text": [
      "100%|███████████████████████████████████████████████████████████████████████| 74682/74682 [00:00<00:00, 2390352.87it/s]\n"
     ]
    },
    {
     "name": "stdout",
     "output_type": "stream",
     "text": [
      "0.01\n"
     ]
    },
    {
     "name": "stderr",
     "output_type": "stream",
     "text": [
      "100%|████████████████████████████████████████████████████████████████████████| 74682/74682 [00:00<00:00, 955868.34it/s]\n"
     ]
    },
    {
     "name": "stdout",
     "output_type": "stream",
     "text": [
      "0.01\n"
     ]
    },
    {
     "name": "stderr",
     "output_type": "stream",
     "text": [
      "100%|███████████████████████████████████████████████████████████████████████| 74682/74682 [00:00<00:00, 2390042.81it/s]\n"
     ]
    },
    {
     "name": "stdout",
     "output_type": "stream",
     "text": [
      "0.01\n"
     ]
    },
    {
     "name": "stderr",
     "output_type": "stream",
     "text": [
      "100%|███████████████████████████████████████████████████████████████████████| 74682/74682 [00:00<00:00, 2389714.61it/s]\n"
     ]
    },
    {
     "name": "stdout",
     "output_type": "stream",
     "text": [
      "0.01\n"
     ]
    },
    {
     "name": "stderr",
     "output_type": "stream",
     "text": [
      "100%|███████████████████████████████████████████████████████████████████████| 74682/74682 [00:00<00:00, 2389459.40it/s]\n"
     ]
    },
    {
     "name": "stdout",
     "output_type": "stream",
     "text": [
      "0.01\n"
     ]
    },
    {
     "name": "stderr",
     "output_type": "stream",
     "text": [
      "100%|███████████████████████████████████████████████████████████████████████| 74682/74682 [00:00<00:00, 2390225.19it/s]\n"
     ]
    },
    {
     "name": "stdout",
     "output_type": "stream",
     "text": [
      "0.01\n"
     ]
    },
    {
     "name": "stderr",
     "output_type": "stream",
     "text": [
      "100%|███████████████████████████████████████████████████████████████████████| 74682/74682 [00:00<00:00, 4778335.59it/s]\n"
     ]
    },
    {
     "name": "stdout",
     "output_type": "stream",
     "text": [
      "0.01\n"
     ]
    },
    {
     "name": "stderr",
     "output_type": "stream",
     "text": [
      "100%|███████████████████████████████████████████████████████████████████████| 74682/74682 [00:00<00:00, 4577443.14it/s]\n"
     ]
    },
    {
     "name": "stdout",
     "output_type": "stream",
     "text": [
      "0.01\n"
     ]
    },
    {
     "name": "stderr",
     "output_type": "stream",
     "text": [
      "100%|████████████████████████████████████████████████████████████████████████| 74682/74682 [00:00<00:00, 525754.94it/s]\n"
     ]
    },
    {
     "name": "stdout",
     "output_type": "stream",
     "text": [
      "0.01\n"
     ]
    },
    {
     "name": "stderr",
     "output_type": "stream",
     "text": [
      "100%|███████████████████████████████████████████████████████████████████████| 74682/74682 [00:00<00:00, 1195067.00it/s]\n"
     ]
    },
    {
     "name": "stdout",
     "output_type": "stream",
     "text": [
      "0.01\n"
     ]
    },
    {
     "name": "stderr",
     "output_type": "stream",
     "text": [
      "100%|███████████████████████████████████████████████████████████████████████| 74682/74682 [00:00<00:00, 2390334.63it/s]\n"
     ]
    },
    {
     "name": "stdout",
     "output_type": "stream",
     "text": [
      "0.01\n"
     ]
    },
    {
     "name": "stderr",
     "output_type": "stream",
     "text": [
      "100%|███████████████████████████████████████████████████████████████████████| 74682/74682 [00:00<00:00, 2389058.46it/s]\n"
     ]
    },
    {
     "name": "stdout",
     "output_type": "stream",
     "text": [
      "0.01\n"
     ]
    },
    {
     "name": "stderr",
     "output_type": "stream",
     "text": [
      "100%|███████████████████████████████████████████████████████████████████████| 74682/74682 [00:00<00:00, 2391356.55it/s]\n"
     ]
    },
    {
     "name": "stdout",
     "output_type": "stream",
     "text": [
      "0.01\n"
     ]
    },
    {
     "name": "stderr",
     "output_type": "stream",
     "text": [
      "100%|███████████████████████████████████████████████████████████████████████| 74682/74682 [00:00<00:00, 2390954.98it/s]\n"
     ]
    },
    {
     "name": "stdout",
     "output_type": "stream",
     "text": [
      "0.01\n"
     ]
    },
    {
     "name": "stderr",
     "output_type": "stream",
     "text": [
      "100%|████████████████████████████████████████████████████████████████████████| 74682/74682 [00:00<00:00, 955917.93it/s]\n"
     ]
    },
    {
     "name": "stdout",
     "output_type": "stream",
     "text": [
      "0.01\n"
     ]
    },
    {
     "name": "stderr",
     "output_type": "stream",
     "text": [
      "100%|███████████████████████████████████████████████████████████████████████| 74682/74682 [00:00<00:00, 1852520.65it/s]\n"
     ]
    },
    {
     "name": "stdout",
     "output_type": "stream",
     "text": [
      "0.01\n"
     ]
    },
    {
     "name": "stderr",
     "output_type": "stream",
     "text": [
      "100%|███████████████████████████████████████████████████████████████████████| 74682/74682 [00:00<00:00, 2390371.11it/s]\n"
     ]
    },
    {
     "name": "stdout",
     "output_type": "stream",
     "text": [
      "0.01\n"
     ]
    },
    {
     "name": "stderr",
     "output_type": "stream",
     "text": [
      "100%|███████████████████████████████████████████████████████████████████████| 74682/74682 [00:00<00:00, 1204468.94it/s]\n"
     ]
    },
    {
     "name": "stdout",
     "output_type": "stream",
     "text": [
      "0.01\n"
     ]
    },
    {
     "name": "stderr",
     "output_type": "stream",
     "text": [
      "100%|███████████████████████████████████████████████████████████████████████| 74682/74682 [00:00<00:00, 2416445.61it/s]\n"
     ]
    },
    {
     "name": "stdout",
     "output_type": "stream",
     "text": [
      "0.01\n"
     ]
    },
    {
     "name": "stderr",
     "output_type": "stream",
     "text": [
      "100%|███████████████████████████████████████████████████████████████████████| 74682/74682 [00:00<00:00, 2023141.88it/s]\n"
     ]
    },
    {
     "name": "stdout",
     "output_type": "stream",
     "text": [
      "0.01\n"
     ]
    },
    {
     "name": "stderr",
     "output_type": "stream",
     "text": [
      "100%|███████████████████████████████████████████████████████████████████████| 74682/74682 [00:00<00:00, 4716389.54it/s]\n"
     ]
    },
    {
     "name": "stdout",
     "output_type": "stream",
     "text": [
      "0.01\n"
     ]
    },
    {
     "name": "stderr",
     "output_type": "stream",
     "text": [
      "100%|███████████████████████████████████████████████████████████████████████| 74682/74682 [00:00<00:00, 4484324.16it/s]\n"
     ]
    },
    {
     "name": "stdout",
     "output_type": "stream",
     "text": [
      "0.01\n"
     ]
    },
    {
     "name": "stderr",
     "output_type": "stream",
     "text": [
      "100%|███████████████████████████████████████████████████████████████████████| 74682/74682 [00:00<00:00, 2300504.63it/s]\n"
     ]
    },
    {
     "name": "stdout",
     "output_type": "stream",
     "text": [
      "0.01\n"
     ]
    },
    {
     "name": "stderr",
     "output_type": "stream",
     "text": [
      "100%|███████████████████████████████████████████████████████████████████████| 74682/74682 [00:00<00:00, 4965112.40it/s]\n"
     ]
    },
    {
     "name": "stdout",
     "output_type": "stream",
     "text": [
      "0.01\n"
     ]
    },
    {
     "name": "stderr",
     "output_type": "stream",
     "text": [
      "100%|███████████████████████████████████████████████████████████████████████| 74682/74682 [00:00<00:00, 4163751.31it/s]\n"
     ]
    },
    {
     "name": "stdout",
     "output_type": "stream",
     "text": [
      "0.01\n"
     ]
    },
    {
     "name": "stderr",
     "output_type": "stream",
     "text": [
      "100%|███████████████████████████████████████████████████████████████████████| 74682/74682 [00:00<00:00, 3630115.21it/s]\n"
     ]
    },
    {
     "name": "stdout",
     "output_type": "stream",
     "text": [
      "0.01\n"
     ]
    },
    {
     "name": "stderr",
     "output_type": "stream",
     "text": [
      "100%|███████████████████████████████████████████████████████████████████████| 74682/74682 [00:00<00:00, 2390206.95it/s]\n"
     ]
    },
    {
     "name": "stdout",
     "output_type": "stream",
     "text": [
      "0.01\n"
     ]
    },
    {
     "name": "stderr",
     "output_type": "stream",
     "text": [
      "100%|████████████████████████████████████████████████████████████████████████| 74682/74682 [00:00<00:00, 955941.27it/s]\n"
     ]
    },
    {
     "name": "stdout",
     "output_type": "stream",
     "text": [
      "0.01\n"
     ]
    },
    {
     "name": "stderr",
     "output_type": "stream",
     "text": [
      "100%|███████████████████████████████████████████████████████████████████████| 74682/74682 [00:00<00:00, 2389696.38it/s]\n"
     ]
    },
    {
     "name": "stdout",
     "output_type": "stream",
     "text": [
      "0.01\n"
     ]
    },
    {
     "name": "stderr",
     "output_type": "stream",
     "text": [
      "100%|███████████████████████████████████████████████████████████████████████| 74682/74682 [00:00<00:00, 4776077.02it/s]\n"
     ]
    },
    {
     "name": "stdout",
     "output_type": "stream",
     "text": [
      "0.01\n"
     ]
    },
    {
     "name": "stderr",
     "output_type": "stream",
     "text": [
      "100%|███████████████████████████████████████████████████████████████████████| 74682/74682 [00:00<00:00, 2389076.68it/s]\n"
     ]
    },
    {
     "name": "stdout",
     "output_type": "stream",
     "text": [
      "0.01\n"
     ]
    },
    {
     "name": "stderr",
     "output_type": "stream",
     "text": [
      "100%|███████████████████████████████████████████████████████████████████████| 74682/74682 [00:00<00:00, 1012483.19it/s]\n"
     ]
    },
    {
     "name": "stdout",
     "output_type": "stream",
     "text": [
      "0.01\n"
     ]
    },
    {
     "name": "stderr",
     "output_type": "stream",
     "text": [
      "100%|███████████████████████████████████████████████████████████████████████| 74682/74682 [00:00<00:00, 1649842.05it/s]\n"
     ]
    },
    {
     "name": "stdout",
     "output_type": "stream",
     "text": [
      "0.01\n"
     ]
    },
    {
     "name": "stderr",
     "output_type": "stream",
     "text": [
      "100%|███████████████████████████████████████████████████████████████████████| 74682/74682 [00:00<00:00, 3031707.12it/s]\n"
     ]
    },
    {
     "name": "stdout",
     "output_type": "stream",
     "text": [
      "0.01\n"
     ]
    }
   ],
   "source": [
    "for i in range(150):\n",
    "    d2v_model.train(utils.shuffle([x for x in tqdm(df_tagged.values)]), total_examples = len(df_tagged.values), epochs = 15)\n",
    "    print(d2v_model.alpha)\n",
    "\n",
    "#d2v model helps get the initial embeddings which the input data might find useful in understanding the contents like happy is similar to joy."
   ]
  },
  {
   "cell_type": "code",
   "execution_count": 25,
   "id": "c153dcf9-e01d-496e-9a29-537b30e9c39b",
   "metadata": {},
   "outputs": [],
   "source": [
    "d2v_model.save(\"doc2vec_model.d2v\")\n",
    "# d2v_model = Doc2Vec.load(\"doc2vec_model.d2v\")"
   ]
  },
  {
   "cell_type": "code",
   "execution_count": null,
   "id": "7858f954-85bb-4960-a238-625d720ddd3c",
   "metadata": {},
   "outputs": [],
   "source": [
    "# import gensim.downloader as api\n",
    "# wv = api.load('word2vec-google-news-300')"
   ]
  },
  {
   "cell_type": "code",
   "execution_count": 26,
   "id": "00fb400f-0d6c-4f3b-91f6-34bde0fc4c55",
   "metadata": {},
   "outputs": [],
   "source": [
    "embedding_matrix = np.zeros((len(tokenizer.word_index) + 1, 300))\n",
    "for word, i in tokenizer.word_index.items():\n",
    "    if word in d2v_model.wv.key_to_index:\n",
    "        embedding_matrix[i] = d2v_model.wv[word]\n",
    "    else:\n",
    "        embedding_matrix[i] = np.random.normal(size=(300,))"
   ]
  },
  {
   "cell_type": "code",
   "execution_count": 27,
   "id": "b362131b-dd80-4957-99f7-de243595721d",
   "metadata": {},
   "outputs": [],
   "source": [
    "Y = pd.get_dummies(df['sentiment']).values\n",
    "X_train, X_test, Y_train, Y_test = train_test_split(X, Y, test_size = 0.15, random_state = 42)"
   ]
  },
  {
   "cell_type": "markdown",
   "id": "a38a9811-b346-4e77-b607-527bfea03069",
   "metadata": {},
   "source": [
    "## Naive Bayes"
   ]
  },
  {
   "cell_type": "code",
   "execution_count": 14,
   "id": "7b729749-e4ca-4d0f-807c-83987e239dde",
   "metadata": {},
   "outputs": [],
   "source": [
    "X_train_tfidf, X_test_tfidf, y_train_tfidf, y_test_tfidf = train_test_split(X_tfidf, df['sentiment'], test_size=0.2, random_state=42)"
   ]
  },
  {
   "cell_type": "code",
   "execution_count": 19,
   "id": "89e25ae9-43bb-4a35-8516-7c5d98130688",
   "metadata": {},
   "outputs": [
    {
     "data": {
      "text/plain": [
       "array([3, 2, 0, ..., 2, 0, 1], dtype=int64)"
      ]
     },
     "execution_count": 19,
     "metadata": {},
     "output_type": "execute_result"
    }
   ],
   "source": [
    "model = GaussianNB()\n",
    "model.fit(X_train_tfidf.toarray(), y_train_tfidf)  # Convert to dense array if X_tfidf is sparse\n",
    "predictions = model.predict(X_test_tfidf.toarray())\n",
    "predictions"
   ]
  },
  {
   "cell_type": "code",
   "execution_count": 59,
   "id": "9aac9564-f293-488a-a9a3-d76f61631d0e",
   "metadata": {},
   "outputs": [],
   "source": [
    "def get_scores(preds, Y):\n",
    "    print('F1_score', f1_score(Y, preds, average = 'macro'))\n",
    "    print('recall_score', recall_score(Y, preds, average = 'macro'))\n",
    "    print('accuracy_score', accuracy_score(Y, preds))"
   ]
  },
  {
   "cell_type": "code",
   "execution_count": 60,
   "id": "b03d6dfe-ae51-4826-9a49-f95710b008b0",
   "metadata": {},
   "outputs": [
    {
     "name": "stdout",
     "output_type": "stream",
     "text": [
      "F1_score 0.6522074650951457\n",
      "recall_score 0.6687021231705488\n",
      "accuracy_score 0.647921269331191\n"
     ]
    }
   ],
   "source": [
    "get_scores(predictions, y_test_tfidf)"
   ]
  },
  {
   "cell_type": "markdown",
   "id": "acb972a1-61bf-48d4-bc8e-a702d0868125",
   "metadata": {},
   "source": [
    "## LSTM"
   ]
  },
  {
   "cell_type": "code",
   "execution_count": 28,
   "id": "aa9bf6cb-cbe7-4c8a-a141-eeefbe2075f1",
   "metadata": {},
   "outputs": [],
   "source": [
    "model = Sequential()\n",
    "model.add(Embedding(len(tokenizer.word_index) + 1, 300, weights = embedding_matrix, trainable =True)) \n",
    "model.add(LSTM(32, return_sequences = True, dropout=0.2, recurrent_dropout=0.3))\n",
    "model.add(LSTM(32, return_sequences = False, dropout=0.2, recurrent_dropout=0.3))\n",
    "# model.add(LSTM(16, return_sequences = False, activation='tanh'))\n",
    "model.add(Dense(4, activation='tanh'))"
   ]
  },
  {
   "cell_type": "code",
   "execution_count": 29,
   "id": "2f460345-f983-423e-8fa4-5b838fb84698",
   "metadata": {},
   "outputs": [],
   "source": [
    "model.compile(optimizer=\"adam\",loss=\"binary_crossentropy\",metrics=['recall'])"
   ]
  },
  {
   "cell_type": "code",
   "execution_count": 30,
   "id": "7fb9d9a4-092f-480a-84b5-46867379ee12",
   "metadata": {},
   "outputs": [
    {
     "name": "stdout",
     "output_type": "stream",
     "text": [
      "Epoch 1/50\n",
      "1687/1687 - 118s - 70ms/step - loss: 0.4595 - recall: 0.4043 - val_loss: 0.3703 - val_recall: 0.6417\n",
      "Epoch 2/50\n",
      "1687/1687 - 138s - 82ms/step - loss: 0.2997 - recall: 0.7408 - val_loss: 0.3093 - val_recall: 0.7434\n",
      "Epoch 3/50\n",
      "1687/1687 - 108s - 64ms/step - loss: 0.2179 - recall: 0.8172 - val_loss: 0.3067 - val_recall: 0.7849\n",
      "Epoch 4/50\n",
      "1687/1687 - 110s - 65ms/step - loss: 0.1902 - recall: 0.8493 - val_loss: 0.2731 - val_recall: 0.8034\n",
      "Epoch 5/50\n",
      "1687/1687 - 111s - 66ms/step - loss: 0.1678 - recall: 0.8668 - val_loss: 0.2705 - val_recall: 0.8199\n",
      "Epoch 6/50\n",
      "1687/1687 - 109s - 65ms/step - loss: 0.1379 - recall: 0.8854 - val_loss: 0.2612 - val_recall: 0.8429\n",
      "Epoch 7/50\n",
      "1687/1687 - 108s - 64ms/step - loss: 0.1415 - recall: 0.8947 - val_loss: 0.2771 - val_recall: 0.8317\n",
      "Epoch 8/50\n",
      "1687/1687 - 107s - 64ms/step - loss: 0.1277 - recall: 0.9038 - val_loss: 0.2664 - val_recall: 0.8403\n",
      "Epoch 9/50\n",
      "1687/1687 - 104s - 61ms/step - loss: 0.1086 - recall: 0.9102 - val_loss: 0.2854 - val_recall: 0.8430\n",
      "Epoch 10/50\n",
      "1687/1687 - 105s - 62ms/step - loss: 0.1041 - recall: 0.9132 - val_loss: 0.2902 - val_recall: 0.8435\n"
     ]
    }
   ],
   "source": [
    "cb = [EarlyStopping(patience = 4, min_delta = 0.001, monitor = 'val_loss')]\n",
    "history = model.fit(X_train, Y_train, epochs = 50, batch_size = 32, validation_split = 0.15, validation_freq = 1, verbose = 2, callbacks = cb)"
   ]
  },
  {
   "cell_type": "code",
   "execution_count": 31,
   "id": "fdcfd977-4100-49f3-912f-d151de4ce074",
   "metadata": {},
   "outputs": [
    {
     "data": {
      "image/png": "[encoded data removed]",
      "text/plain": [
       "<Figure size 640x480 with 1 Axes>"
      ]
     },
     "metadata": {},
     "output_type": "display_data"
    },
    {
     "data": {
      "image/png": "[encoded data removed]",
      "text/plain": [
       "<Figure size 640x480 with 1 Axes>"
      ]
     },
     "metadata": {},
     "output_type": "display_data"
    }
   ],
   "source": [
    "plt.plot(history.history['recall'])\n",
    "plt.title('Accuracy')\n",
    "plt.xlabel('epochs')\n",
    "plt.ylabel('Accuracy')\n",
    "plt.legend(['train'], loc= 'upper right')\n",
    "plt.show()\n",
    "\n",
    "plt.plot(history.history['loss'])\n",
    "#plt.plot(history.history['val_loss'])\n",
    "plt.title('model loss')\n",
    "plt.ylabel('loss')\n",
    "plt.xlabel('epochs')\n",
    "plt.legend(['train', 'test'], loc='upper left')\n",
    "plt.show()"
   ]
  },
  {
   "cell_type": "code",
   "execution_count": 32,
   "id": "7f592a16-ea09-4eaf-a94a-2650af782f32",
   "metadata": {},
   "outputs": [
    {
     "name": "stdout",
     "output_type": "stream",
     "text": [
      "\u001b[1m1984/1984\u001b[0m \u001b[32m━━━━━━━━━━━━━━━━━━━━\u001b[0m\u001b[37m\u001b[0m \u001b[1m17s\u001b[0m 8ms/step - loss: 0.0790 - recall: 0.9254\n",
      "\u001b[1m351/351\u001b[0m \u001b[32m━━━━━━━━━━━━━━━━━━━━\u001b[0m\u001b[37m\u001b[0m \u001b[1m2s\u001b[0m 7ms/step - loss: 0.3052 - recall: 0.8418\n",
      "(train_acc 0.9154523611068726, test_acc 0.8487905263900757)\n"
     ]
    }
   ],
   "source": [
    "_, train_acc = model.evaluate(X_train, Y_train)\n",
    "_, test_acc = model.evaluate(X_test, Y_test)\n",
    "print(f'(train_acc {train_acc}, test_acc {test_acc})')"
   ]
  },
  {
   "cell_type": "code",
   "execution_count": 33,
   "id": "e84de818-9116-478f-8b71-798a86cc323d",
   "metadata": {},
   "outputs": [],
   "source": [
    "predicted_classes = [np.argmax(i) for i in model.predict(X_test, verbose = 0)]\n",
    "true_classes = [np.argmax(i) for i in Y_test]"
   ]
  },
  {
   "cell_type": "code",
   "execution_count": 51,
   "id": "81724ac4-1141-48fd-970e-65117fb669b4",
   "metadata": {},
   "outputs": [
    {
     "name": "stdout",
     "output_type": "stream",
     "text": [
      "F1_score 0.8588161872687623\n",
      "recall_score 0.8543747795526074\n",
      "accuracy_score 0.860037489958047\n"
     ]
    }
   ],
   "source": [
    "print('F1_score', f1_score(true_classes, predicted_classes, average = 'macro'))\n",
    "print('recall_score', recall_score(true_classes, predicted_classes, average = 'macro'))\n",
    "print('accuracy_score', accuracy_score(true_classes, predicted_classes))"
   ]
  },
  {
   "cell_type": "code",
   "execution_count": 35,
   "id": "2131cf40-9c99-4876-97a6-6ab2188071c3",
   "metadata": {},
   "outputs": [
    {
     "data": {
      "text/plain": [
       "array([[2977,   94,  255,   79],\n",
       "       [ 160, 2235,  215,   58],\n",
       "       [ 159,  110, 2828,   70],\n",
       "       [ 110,   64,  194, 1595]], dtype=int64)"
      ]
     },
     "execution_count": 35,
     "metadata": {},
     "output_type": "execute_result"
    }
   ],
   "source": [
    "from sklearn.metrics import confusion_matrix\n",
    "confusion_matrix(true_classes, predicted_classes)"
   ]
  },
  {
   "cell_type": "code",
   "execution_count": 36,
   "id": "afef0312-7bea-413a-85d0-c27bb1ef0123",
   "metadata": {},
   "outputs": [
    {
     "data": {
      "image/png": "[encoded data removed]",
      "text/plain": [
       "<Figure size 500x500 with 2 Axes>"
      ]
     },
     "metadata": {},
     "output_type": "display_data"
    }
   ],
   "source": [
    "import seaborn as sns\n",
    "f, ax = plt.subplots(figsize = (5,5))\n",
    "sns.heatmap(confusion_matrix(true_classes, predicted_classes), annot= True, linewidth = 0.7, linecolor = 'cyan', fmt = 'g', ax=ax, cmap = 'BuPu')\n",
    "plt.title('LSTM Classification Confusion Matrix')\n",
    "plt.xlabel('Y_predict')\n",
    "plt.ylabel('Y_test')\n",
    "plt.show()"
   ]
  },
  {
   "cell_type": "code",
   "execution_count": 38,
   "id": "5079b0e9-df83-4f74-b78f-4b21830b74d2",
   "metadata": {},
   "outputs": [],
   "source": [
    "model.save(\"model.keras\")\n",
    "#loaded_model = keras.saving.load_model(\"model.keras\")\n",
    "\n",
    "# import pickle\n",
    "# with open('LSTM.pkl','wb') as file:\n",
    "#     pickle.dump(model, file)"
   ]
  },
  {
   "cell_type": "markdown",
   "id": "6663d86a-91c5-4824-a410-2c9515be7c66",
   "metadata": {},
   "source": [
    "## Gradient Boosting Classifier"
   ]
  },
  {
   "cell_type": "code",
   "execution_count": 57,
   "id": "4cf9f4eb-7105-4659-abc8-08f8b14daeb3",
   "metadata": {},
   "outputs": [],
   "source": [
    "# gbclassifier = GradientBoostingClassifier(loss = 'log_loss', validation_fraction = 0.1, subsample = 0.8, tol = 4, learning_rate = 0.4, n_estimators = 4000, verbose = 2, max_features = None, max_depth = 3, min_samples_leaf = 1, min_samples_split = 2)\n",
    "# gbclassifier.fit(X_train, Y_tr)"
   ]
  },
  {
   "cell_type": "code",
   "execution_count": 56,
   "id": "45b24302-17a9-4be7-8d88-9f58e9a4a624",
   "metadata": {},
   "outputs": [],
   "source": [
    "# gbclassifier_pred =gbclassifier.predict(X_test)"
   ]
  },
  {
   "cell_type": "code",
   "execution_count": null,
   "id": "0dd1d3e6-0b17-4106-89b7-f80af4230755",
   "metadata": {},
   "outputs": [],
   "source": [
    "# get_scores(gbclassifier_pred, Y_tst)"
   ]
  },
  {
   "cell_type": "markdown",
   "id": "1c353776-7add-4f0f-84c0-98d284532d46",
   "metadata": {},
   "source": [
    "## XGBClassifier"
   ]
  },
  {
   "cell_type": "code",
   "execution_count": 41,
   "id": "6f86147d-8a8c-462d-ba17-c213806bb64c",
   "metadata": {},
   "outputs": [],
   "source": [
    "Y_tr = [np.argmax(i) for i in Y_train]\n",
    "Y_tst = [np.argmax(i) for i in Y_test]"
   ]
  },
  {
   "cell_type": "code",
   "execution_count": 39,
   "id": "c32d34bb-2e0b-44ba-b4d0-4058c0269b84",
   "metadata": {},
   "outputs": [],
   "source": [
    "cutoff_eval = int(0.8*len(X_train))"
   ]
  },
  {
   "cell_type": "code",
   "execution_count": 42,
   "id": "99d82f10-7699-4be0-a7c6-cd1878b77e66",
   "metadata": {},
   "outputs": [],
   "source": [
    "X_train_non_eval = X_train[:cutoff_eval]\n",
    "Y_tr_non_eval = Y_tr[0:cutoff_eval]\n",
    "\n",
    "X_eval = X_train[cutoff_eval:]\n",
    "Y_eval = Y_tr[cutoff_eval:]"
   ]
  },
  {
   "cell_type": "code",
   "execution_count": 43,
   "id": "cbfb22a8-cd29-467e-8add-58ab7229bac2",
   "metadata": {
    "scrolled": true
   },
   "outputs": [
    {
     "name": "stdout",
     "output_type": "stream",
     "text": [
      "[0]\tvalidation_0-mlogloss:1.36692\n"
     ]
    },
    {
     "name": "stderr",
     "output_type": "stream",
     "text": [
      "C:\\Users\\tanvi\\anaconda3\\Lib\\site-packages\\xgboost\\core.py:160: UserWarning: [17:54:07] WARNING: C:\\buildkite-agent\\builds\\buildkite-windows-cpu-autoscaling-group-i-0b3782d1791676daf-1\\xgboost\\xgboost-ci-windows\\src\\learner.cc:742: \n",
      "Parameters: { \"min_samples_leaf\", \"min_samples_split\" } are not used.\n",
      "\n",
      "  warnings.warn(smsg, UserWarning)\n"
     ]
    },
    {
     "name": "stdout",
     "output_type": "stream",
     "text": [
      "[1]\tvalidation_0-mlogloss:1.35019\n",
      "[2]\tvalidation_0-mlogloss:1.33465\n",
      "[3]\tvalidation_0-mlogloss:1.32112\n",
      "[4]\tvalidation_0-mlogloss:1.30852\n",
      "[5]\tvalidation_0-mlogloss:1.29654\n",
      "[6]\tvalidation_0-mlogloss:1.28617\n",
      "[7]\tvalidation_0-mlogloss:1.27595\n",
      "[8]\tvalidation_0-mlogloss:1.26679\n",
      "[9]\tvalidation_0-mlogloss:1.25707\n",
      "[10]\tvalidation_0-mlogloss:1.24906\n",
      "[11]\tvalidation_0-mlogloss:1.24113\n",
      "[12]\tvalidation_0-mlogloss:1.23405\n",
      "[13]\tvalidation_0-mlogloss:1.22735\n",
      "[14]\tvalidation_0-mlogloss:1.21967\n",
      "[15]\tvalidation_0-mlogloss:1.21319\n",
      "[16]\tvalidation_0-mlogloss:1.20694\n",
      "[17]\tvalidation_0-mlogloss:1.19956\n",
      "[18]\tvalidation_0-mlogloss:1.19395\n",
      "[19]\tvalidation_0-mlogloss:1.18734\n",
      "[20]\tvalidation_0-mlogloss:1.18179\n",
      "[21]\tvalidation_0-mlogloss:1.17672\n",
      "[22]\tvalidation_0-mlogloss:1.17117\n",
      "[23]\tvalidation_0-mlogloss:1.16631\n",
      "[24]\tvalidation_0-mlogloss:1.16090\n",
      "[25]\tvalidation_0-mlogloss:1.15620\n",
      "[26]\tvalidation_0-mlogloss:1.15119\n",
      "[27]\tvalidation_0-mlogloss:1.14729\n",
      "[28]\tvalidation_0-mlogloss:1.14372\n",
      "[29]\tvalidation_0-mlogloss:1.13947\n",
      "[30]\tvalidation_0-mlogloss:1.13608\n",
      "[31]\tvalidation_0-mlogloss:1.13184\n",
      "[32]\tvalidation_0-mlogloss:1.12844\n",
      "[33]\tvalidation_0-mlogloss:1.12449\n",
      "[34]\tvalidation_0-mlogloss:1.12038\n",
      "[35]\tvalidation_0-mlogloss:1.11706\n",
      "[36]\tvalidation_0-mlogloss:1.11326\n",
      "[37]\tvalidation_0-mlogloss:1.10940\n",
      "[38]\tvalidation_0-mlogloss:1.10590\n",
      "[39]\tvalidation_0-mlogloss:1.10258\n",
      "[40]\tvalidation_0-mlogloss:1.09998\n",
      "[41]\tvalidation_0-mlogloss:1.09630\n",
      "[42]\tvalidation_0-mlogloss:1.09364\n",
      "[43]\tvalidation_0-mlogloss:1.09031\n",
      "[44]\tvalidation_0-mlogloss:1.08816\n",
      "[45]\tvalidation_0-mlogloss:1.08537\n",
      "[46]\tvalidation_0-mlogloss:1.08251\n",
      "[47]\tvalidation_0-mlogloss:1.07968\n",
      "[48]\tvalidation_0-mlogloss:1.07724\n",
      "[49]\tvalidation_0-mlogloss:1.07435\n",
      "[50]\tvalidation_0-mlogloss:1.07142\n",
      "[51]\tvalidation_0-mlogloss:1.06940\n",
      "[52]\tvalidation_0-mlogloss:1.06711\n",
      "[53]\tvalidation_0-mlogloss:1.06484\n",
      "[54]\tvalidation_0-mlogloss:1.06230\n",
      "[55]\tvalidation_0-mlogloss:1.05960\n",
      "[56]\tvalidation_0-mlogloss:1.05722\n",
      "[57]\tvalidation_0-mlogloss:1.05466\n",
      "[58]\tvalidation_0-mlogloss:1.05280\n",
      "[59]\tvalidation_0-mlogloss:1.05035\n",
      "[60]\tvalidation_0-mlogloss:1.04762\n",
      "[61]\tvalidation_0-mlogloss:1.04554\n",
      "[62]\tvalidation_0-mlogloss:1.04406\n",
      "[63]\tvalidation_0-mlogloss:1.04197\n",
      "[64]\tvalidation_0-mlogloss:1.03941\n",
      "[65]\tvalidation_0-mlogloss:1.03713\n",
      "[66]\tvalidation_0-mlogloss:1.03482\n",
      "[67]\tvalidation_0-mlogloss:1.03346\n",
      "[68]\tvalidation_0-mlogloss:1.03126\n",
      "[69]\tvalidation_0-mlogloss:1.02967\n",
      "[70]\tvalidation_0-mlogloss:1.02634\n",
      "[71]\tvalidation_0-mlogloss:1.02371\n",
      "[72]\tvalidation_0-mlogloss:1.02227\n",
      "[73]\tvalidation_0-mlogloss:1.02033\n",
      "[74]\tvalidation_0-mlogloss:1.01724\n",
      "[75]\tvalidation_0-mlogloss:1.01547\n",
      "[76]\tvalidation_0-mlogloss:1.01376\n",
      "[77]\tvalidation_0-mlogloss:1.01104\n",
      "[78]\tvalidation_0-mlogloss:1.00849\n",
      "[79]\tvalidation_0-mlogloss:1.00659\n",
      "[80]\tvalidation_0-mlogloss:1.00456\n",
      "[81]\tvalidation_0-mlogloss:1.00310\n",
      "[82]\tvalidation_0-mlogloss:1.00169\n",
      "[83]\tvalidation_0-mlogloss:1.00013\n",
      "[84]\tvalidation_0-mlogloss:0.99833\n",
      "[85]\tvalidation_0-mlogloss:0.99651\n",
      "[86]\tvalidation_0-mlogloss:0.99550\n",
      "[87]\tvalidation_0-mlogloss:0.99400\n",
      "[88]\tvalidation_0-mlogloss:0.99212\n",
      "[89]\tvalidation_0-mlogloss:0.99059\n",
      "[90]\tvalidation_0-mlogloss:0.98873\n",
      "[91]\tvalidation_0-mlogloss:0.98711\n",
      "[92]\tvalidation_0-mlogloss:0.98537\n",
      "[93]\tvalidation_0-mlogloss:0.98332\n",
      "[94]\tvalidation_0-mlogloss:0.98106\n",
      "[95]\tvalidation_0-mlogloss:0.97911\n",
      "[96]\tvalidation_0-mlogloss:0.97727\n",
      "[97]\tvalidation_0-mlogloss:0.97530\n",
      "[98]\tvalidation_0-mlogloss:0.97419\n",
      "[99]\tvalidation_0-mlogloss:0.97280\n",
      "[100]\tvalidation_0-mlogloss:0.97124\n",
      "[101]\tvalidation_0-mlogloss:0.96901\n",
      "[102]\tvalidation_0-mlogloss:0.96745\n",
      "[103]\tvalidation_0-mlogloss:0.96524\n",
      "[104]\tvalidation_0-mlogloss:0.96303\n",
      "[105]\tvalidation_0-mlogloss:0.96185\n",
      "[106]\tvalidation_0-mlogloss:0.95991\n",
      "[107]\tvalidation_0-mlogloss:0.95803\n",
      "[108]\tvalidation_0-mlogloss:0.95691\n",
      "[109]\tvalidation_0-mlogloss:0.95545\n",
      "[110]\tvalidation_0-mlogloss:0.95454\n",
      "[111]\tvalidation_0-mlogloss:0.95233\n",
      "[112]\tvalidation_0-mlogloss:0.95095\n",
      "[113]\tvalidation_0-mlogloss:0.94912\n",
      "[114]\tvalidation_0-mlogloss:0.94813\n",
      "[115]\tvalidation_0-mlogloss:0.94688\n",
      "[116]\tvalidation_0-mlogloss:0.94548\n",
      "[117]\tvalidation_0-mlogloss:0.94418\n",
      "[118]\tvalidation_0-mlogloss:0.94294\n",
      "[119]\tvalidation_0-mlogloss:0.94145\n",
      "[120]\tvalidation_0-mlogloss:0.94007\n",
      "[121]\tvalidation_0-mlogloss:0.93791\n",
      "[122]\tvalidation_0-mlogloss:0.93671\n",
      "[123]\tvalidation_0-mlogloss:0.93515\n",
      "[124]\tvalidation_0-mlogloss:0.93359\n",
      "[125]\tvalidation_0-mlogloss:0.93244\n",
      "[126]\tvalidation_0-mlogloss:0.93059\n",
      "[127]\tvalidation_0-mlogloss:0.92947\n",
      "[128]\tvalidation_0-mlogloss:0.92865\n",
      "[129]\tvalidation_0-mlogloss:0.92727\n",
      "[130]\tvalidation_0-mlogloss:0.92626\n",
      "[131]\tvalidation_0-mlogloss:0.92538\n",
      "[132]\tvalidation_0-mlogloss:0.92384\n",
      "[133]\tvalidation_0-mlogloss:0.92240\n",
      "[134]\tvalidation_0-mlogloss:0.92106\n",
      "[135]\tvalidation_0-mlogloss:0.91962\n",
      "[136]\tvalidation_0-mlogloss:0.91832\n",
      "[137]\tvalidation_0-mlogloss:0.91726\n",
      "[138]\tvalidation_0-mlogloss:0.91575\n",
      "[139]\tvalidation_0-mlogloss:0.91427\n",
      "[140]\tvalidation_0-mlogloss:0.91294\n",
      "[141]\tvalidation_0-mlogloss:0.91175\n",
      "[142]\tvalidation_0-mlogloss:0.91076\n",
      "[143]\tvalidation_0-mlogloss:0.90963\n",
      "[144]\tvalidation_0-mlogloss:0.90824\n",
      "[145]\tvalidation_0-mlogloss:0.90677\n",
      "[146]\tvalidation_0-mlogloss:0.90567\n",
      "[147]\tvalidation_0-mlogloss:0.90457\n",
      "[148]\tvalidation_0-mlogloss:0.90326\n",
      "[149]\tvalidation_0-mlogloss:0.90205\n",
      "[150]\tvalidation_0-mlogloss:0.90044\n",
      "[151]\tvalidation_0-mlogloss:0.89899\n",
      "[152]\tvalidation_0-mlogloss:0.89788\n",
      "[153]\tvalidation_0-mlogloss:0.89662\n",
      "[154]\tvalidation_0-mlogloss:0.89567\n",
      "[155]\tvalidation_0-mlogloss:0.89379\n",
      "[156]\tvalidation_0-mlogloss:0.89309\n",
      "[157]\tvalidation_0-mlogloss:0.89137\n",
      "[158]\tvalidation_0-mlogloss:0.89005\n",
      "[159]\tvalidation_0-mlogloss:0.88874\n",
      "[160]\tvalidation_0-mlogloss:0.88759\n",
      "[161]\tvalidation_0-mlogloss:0.88658\n",
      "[162]\tvalidation_0-mlogloss:0.88574\n",
      "[163]\tvalidation_0-mlogloss:0.88460\n",
      "[164]\tvalidation_0-mlogloss:0.88349\n",
      "[165]\tvalidation_0-mlogloss:0.88231\n",
      "[166]\tvalidation_0-mlogloss:0.88131\n",
      "[167]\tvalidation_0-mlogloss:0.88003\n",
      "[168]\tvalidation_0-mlogloss:0.87920\n",
      "[169]\tvalidation_0-mlogloss:0.87789\n",
      "[170]\tvalidation_0-mlogloss:0.87667\n",
      "[171]\tvalidation_0-mlogloss:0.87567\n",
      "[172]\tvalidation_0-mlogloss:0.87483\n",
      "[173]\tvalidation_0-mlogloss:0.87397\n",
      "[174]\tvalidation_0-mlogloss:0.87300\n",
      "[175]\tvalidation_0-mlogloss:0.87197\n",
      "[176]\tvalidation_0-mlogloss:0.87099\n",
      "[177]\tvalidation_0-mlogloss:0.86998\n",
      "[178]\tvalidation_0-mlogloss:0.86857\n",
      "[179]\tvalidation_0-mlogloss:0.86766\n",
      "[180]\tvalidation_0-mlogloss:0.86688\n",
      "[181]\tvalidation_0-mlogloss:0.86610\n",
      "[182]\tvalidation_0-mlogloss:0.86517\n",
      "[183]\tvalidation_0-mlogloss:0.86433\n",
      "[184]\tvalidation_0-mlogloss:0.86320\n",
      "[185]\tvalidation_0-mlogloss:0.86265\n",
      "[186]\tvalidation_0-mlogloss:0.86154\n",
      "[187]\tvalidation_0-mlogloss:0.86066\n",
      "[188]\tvalidation_0-mlogloss:0.85965\n",
      "[189]\tvalidation_0-mlogloss:0.85904\n",
      "[190]\tvalidation_0-mlogloss:0.85790\n",
      "[191]\tvalidation_0-mlogloss:0.85745\n",
      "[192]\tvalidation_0-mlogloss:0.85659\n",
      "[193]\tvalidation_0-mlogloss:0.85542\n",
      "[194]\tvalidation_0-mlogloss:0.85475\n",
      "[195]\tvalidation_0-mlogloss:0.85427\n",
      "[196]\tvalidation_0-mlogloss:0.85379\n",
      "[197]\tvalidation_0-mlogloss:0.85289\n",
      "[198]\tvalidation_0-mlogloss:0.85215\n",
      "[199]\tvalidation_0-mlogloss:0.85105\n",
      "[200]\tvalidation_0-mlogloss:0.85020\n",
      "[201]\tvalidation_0-mlogloss:0.84956\n",
      "[202]\tvalidation_0-mlogloss:0.84892\n",
      "[203]\tvalidation_0-mlogloss:0.84821\n",
      "[204]\tvalidation_0-mlogloss:0.84699\n",
      "[205]\tvalidation_0-mlogloss:0.84567\n",
      "[206]\tvalidation_0-mlogloss:0.84455\n",
      "[207]\tvalidation_0-mlogloss:0.84356\n",
      "[208]\tvalidation_0-mlogloss:0.84261\n",
      "[209]\tvalidation_0-mlogloss:0.84178\n",
      "[210]\tvalidation_0-mlogloss:0.84098\n",
      "[211]\tvalidation_0-mlogloss:0.83989\n",
      "[212]\tvalidation_0-mlogloss:0.83926\n",
      "[213]\tvalidation_0-mlogloss:0.83849\n",
      "[214]\tvalidation_0-mlogloss:0.83757\n",
      "[215]\tvalidation_0-mlogloss:0.83680\n",
      "[216]\tvalidation_0-mlogloss:0.83621\n",
      "[217]\tvalidation_0-mlogloss:0.83526\n",
      "[218]\tvalidation_0-mlogloss:0.83473\n",
      "[219]\tvalidation_0-mlogloss:0.83392\n",
      "[220]\tvalidation_0-mlogloss:0.83315\n",
      "[221]\tvalidation_0-mlogloss:0.83236\n",
      "[222]\tvalidation_0-mlogloss:0.83120\n",
      "[223]\tvalidation_0-mlogloss:0.83058\n",
      "[224]\tvalidation_0-mlogloss:0.82965\n",
      "[225]\tvalidation_0-mlogloss:0.82900\n",
      "[226]\tvalidation_0-mlogloss:0.82825\n",
      "[227]\tvalidation_0-mlogloss:0.82735\n",
      "[228]\tvalidation_0-mlogloss:0.82647\n",
      "[229]\tvalidation_0-mlogloss:0.82553\n",
      "[230]\tvalidation_0-mlogloss:0.82498\n",
      "[231]\tvalidation_0-mlogloss:0.82409\n",
      "[232]\tvalidation_0-mlogloss:0.82342\n",
      "[233]\tvalidation_0-mlogloss:0.82251\n",
      "[234]\tvalidation_0-mlogloss:0.82148\n",
      "[235]\tvalidation_0-mlogloss:0.82044\n",
      "[236]\tvalidation_0-mlogloss:0.81984\n",
      "[237]\tvalidation_0-mlogloss:0.81928\n",
      "[238]\tvalidation_0-mlogloss:0.81871\n",
      "[239]\tvalidation_0-mlogloss:0.81781\n",
      "[240]\tvalidation_0-mlogloss:0.81680\n",
      "[241]\tvalidation_0-mlogloss:0.81600\n",
      "[242]\tvalidation_0-mlogloss:0.81540\n",
      "[243]\tvalidation_0-mlogloss:0.81493\n",
      "[244]\tvalidation_0-mlogloss:0.81408\n",
      "[245]\tvalidation_0-mlogloss:0.81332\n",
      "[246]\tvalidation_0-mlogloss:0.81245\n",
      "[247]\tvalidation_0-mlogloss:0.81201\n",
      "[248]\tvalidation_0-mlogloss:0.81125\n",
      "[249]\tvalidation_0-mlogloss:0.81070\n",
      "[250]\tvalidation_0-mlogloss:0.80995\n",
      "[251]\tvalidation_0-mlogloss:0.80939\n",
      "[252]\tvalidation_0-mlogloss:0.80885\n",
      "[253]\tvalidation_0-mlogloss:0.80833\n",
      "[254]\tvalidation_0-mlogloss:0.80795\n",
      "[255]\tvalidation_0-mlogloss:0.80753\n",
      "[256]\tvalidation_0-mlogloss:0.80676\n",
      "[257]\tvalidation_0-mlogloss:0.80587\n",
      "[258]\tvalidation_0-mlogloss:0.80511\n",
      "[259]\tvalidation_0-mlogloss:0.80439\n",
      "[260]\tvalidation_0-mlogloss:0.80349\n",
      "[261]\tvalidation_0-mlogloss:0.80298\n",
      "[262]\tvalidation_0-mlogloss:0.80235\n",
      "[263]\tvalidation_0-mlogloss:0.80149\n",
      "[264]\tvalidation_0-mlogloss:0.80073\n",
      "[265]\tvalidation_0-mlogloss:0.80020\n",
      "[266]\tvalidation_0-mlogloss:0.79938\n",
      "[267]\tvalidation_0-mlogloss:0.79894\n",
      "[268]\tvalidation_0-mlogloss:0.79832\n",
      "[269]\tvalidation_0-mlogloss:0.79783\n",
      "[270]\tvalidation_0-mlogloss:0.79739\n",
      "[271]\tvalidation_0-mlogloss:0.79659\n",
      "[272]\tvalidation_0-mlogloss:0.79624\n",
      "[273]\tvalidation_0-mlogloss:0.79561\n",
      "[274]\tvalidation_0-mlogloss:0.79522\n",
      "[275]\tvalidation_0-mlogloss:0.79454\n",
      "[276]\tvalidation_0-mlogloss:0.79399\n",
      "[277]\tvalidation_0-mlogloss:0.79353\n",
      "[278]\tvalidation_0-mlogloss:0.79306\n",
      "[279]\tvalidation_0-mlogloss:0.79244\n",
      "[280]\tvalidation_0-mlogloss:0.79173\n",
      "[281]\tvalidation_0-mlogloss:0.79123\n",
      "[282]\tvalidation_0-mlogloss:0.79075\n",
      "[283]\tvalidation_0-mlogloss:0.79048\n",
      "[284]\tvalidation_0-mlogloss:0.79009\n",
      "[285]\tvalidation_0-mlogloss:0.78953\n",
      "[286]\tvalidation_0-mlogloss:0.78892\n",
      "[287]\tvalidation_0-mlogloss:0.78860\n",
      "[288]\tvalidation_0-mlogloss:0.78814\n",
      "[289]\tvalidation_0-mlogloss:0.78752\n",
      "[290]\tvalidation_0-mlogloss:0.78696\n",
      "[291]\tvalidation_0-mlogloss:0.78630\n",
      "[292]\tvalidation_0-mlogloss:0.78584\n",
      "[293]\tvalidation_0-mlogloss:0.78532\n",
      "[294]\tvalidation_0-mlogloss:0.78483\n",
      "[295]\tvalidation_0-mlogloss:0.78412\n",
      "[296]\tvalidation_0-mlogloss:0.78354\n",
      "[297]\tvalidation_0-mlogloss:0.78300\n",
      "[298]\tvalidation_0-mlogloss:0.78227\n",
      "[299]\tvalidation_0-mlogloss:0.78153\n",
      "[300]\tvalidation_0-mlogloss:0.78113\n",
      "[301]\tvalidation_0-mlogloss:0.78060\n",
      "[302]\tvalidation_0-mlogloss:0.78021\n",
      "[303]\tvalidation_0-mlogloss:0.77980\n",
      "[304]\tvalidation_0-mlogloss:0.77931\n",
      "[305]\tvalidation_0-mlogloss:0.77897\n",
      "[306]\tvalidation_0-mlogloss:0.77847\n",
      "[307]\tvalidation_0-mlogloss:0.77821\n",
      "[308]\tvalidation_0-mlogloss:0.77779\n",
      "[309]\tvalidation_0-mlogloss:0.77723\n",
      "[310]\tvalidation_0-mlogloss:0.77665\n",
      "[311]\tvalidation_0-mlogloss:0.77620\n",
      "[312]\tvalidation_0-mlogloss:0.77572\n",
      "[313]\tvalidation_0-mlogloss:0.77538\n",
      "[314]\tvalidation_0-mlogloss:0.77490\n",
      "[315]\tvalidation_0-mlogloss:0.77461\n",
      "[316]\tvalidation_0-mlogloss:0.77429\n",
      "[317]\tvalidation_0-mlogloss:0.77365\n",
      "[318]\tvalidation_0-mlogloss:0.77323\n",
      "[319]\tvalidation_0-mlogloss:0.77261\n",
      "[320]\tvalidation_0-mlogloss:0.77227\n",
      "[321]\tvalidation_0-mlogloss:0.77181\n",
      "[322]\tvalidation_0-mlogloss:0.77115\n",
      "[323]\tvalidation_0-mlogloss:0.77042\n",
      "[324]\tvalidation_0-mlogloss:0.77013\n",
      "[325]\tvalidation_0-mlogloss:0.76953\n",
      "[326]\tvalidation_0-mlogloss:0.76928\n",
      "[327]\tvalidation_0-mlogloss:0.76855\n",
      "[328]\tvalidation_0-mlogloss:0.76826\n",
      "[329]\tvalidation_0-mlogloss:0.76769\n",
      "[330]\tvalidation_0-mlogloss:0.76718\n",
      "[331]\tvalidation_0-mlogloss:0.76681\n",
      "[332]\tvalidation_0-mlogloss:0.76638\n",
      "[333]\tvalidation_0-mlogloss:0.76597\n",
      "[334]\tvalidation_0-mlogloss:0.76552\n",
      "[335]\tvalidation_0-mlogloss:0.76508\n",
      "[336]\tvalidation_0-mlogloss:0.76451\n",
      "[337]\tvalidation_0-mlogloss:0.76387\n",
      "[338]\tvalidation_0-mlogloss:0.76339\n",
      "[339]\tvalidation_0-mlogloss:0.76306\n",
      "[340]\tvalidation_0-mlogloss:0.76269\n",
      "[341]\tvalidation_0-mlogloss:0.76236\n",
      "[342]\tvalidation_0-mlogloss:0.76197\n",
      "[343]\tvalidation_0-mlogloss:0.76148\n",
      "[344]\tvalidation_0-mlogloss:0.76136\n",
      "[345]\tvalidation_0-mlogloss:0.76113\n",
      "[346]\tvalidation_0-mlogloss:0.76070\n",
      "[347]\tvalidation_0-mlogloss:0.76041\n",
      "[348]\tvalidation_0-mlogloss:0.76015\n",
      "[349]\tvalidation_0-mlogloss:0.75980\n",
      "[350]\tvalidation_0-mlogloss:0.75923\n",
      "[351]\tvalidation_0-mlogloss:0.75895\n",
      "[352]\tvalidation_0-mlogloss:0.75873\n",
      "[353]\tvalidation_0-mlogloss:0.75832\n",
      "[354]\tvalidation_0-mlogloss:0.75794\n",
      "[355]\tvalidation_0-mlogloss:0.75730\n",
      "[356]\tvalidation_0-mlogloss:0.75677\n",
      "[357]\tvalidation_0-mlogloss:0.75638\n",
      "[358]\tvalidation_0-mlogloss:0.75618\n",
      "[359]\tvalidation_0-mlogloss:0.75582\n",
      "[360]\tvalidation_0-mlogloss:0.75560\n",
      "[361]\tvalidation_0-mlogloss:0.75506\n",
      "[362]\tvalidation_0-mlogloss:0.75444\n",
      "[363]\tvalidation_0-mlogloss:0.75416\n",
      "[364]\tvalidation_0-mlogloss:0.75373\n",
      "[365]\tvalidation_0-mlogloss:0.75318\n",
      "[366]\tvalidation_0-mlogloss:0.75275\n",
      "[367]\tvalidation_0-mlogloss:0.75237\n",
      "[368]\tvalidation_0-mlogloss:0.75197\n",
      "[369]\tvalidation_0-mlogloss:0.75164\n",
      "[370]\tvalidation_0-mlogloss:0.75121\n",
      "[371]\tvalidation_0-mlogloss:0.75100\n",
      "[372]\tvalidation_0-mlogloss:0.75077\n",
      "[373]\tvalidation_0-mlogloss:0.75052\n",
      "[374]\tvalidation_0-mlogloss:0.75041\n",
      "[375]\tvalidation_0-mlogloss:0.74996\n",
      "[376]\tvalidation_0-mlogloss:0.74973\n",
      "[377]\tvalidation_0-mlogloss:0.74940\n",
      "[378]\tvalidation_0-mlogloss:0.74923\n",
      "[379]\tvalidation_0-mlogloss:0.74909\n",
      "[380]\tvalidation_0-mlogloss:0.74874\n",
      "[381]\tvalidation_0-mlogloss:0.74848\n",
      "[382]\tvalidation_0-mlogloss:0.74821\n",
      "[383]\tvalidation_0-mlogloss:0.74785\n",
      "[384]\tvalidation_0-mlogloss:0.74773\n",
      "[385]\tvalidation_0-mlogloss:0.74743\n",
      "[386]\tvalidation_0-mlogloss:0.74684\n",
      "[387]\tvalidation_0-mlogloss:0.74643\n",
      "[388]\tvalidation_0-mlogloss:0.74612\n",
      "[389]\tvalidation_0-mlogloss:0.74586\n",
      "[390]\tvalidation_0-mlogloss:0.74564\n",
      "[391]\tvalidation_0-mlogloss:0.74535\n",
      "[392]\tvalidation_0-mlogloss:0.74504\n",
      "[393]\tvalidation_0-mlogloss:0.74474\n",
      "[394]\tvalidation_0-mlogloss:0.74441\n",
      "[395]\tvalidation_0-mlogloss:0.74405\n",
      "[396]\tvalidation_0-mlogloss:0.74371\n",
      "[397]\tvalidation_0-mlogloss:0.74339\n",
      "[398]\tvalidation_0-mlogloss:0.74313\n",
      "[399]\tvalidation_0-mlogloss:0.74283\n",
      "[400]\tvalidation_0-mlogloss:0.74236\n",
      "[401]\tvalidation_0-mlogloss:0.74220\n",
      "[402]\tvalidation_0-mlogloss:0.74199\n",
      "[403]\tvalidation_0-mlogloss:0.74174\n",
      "[404]\tvalidation_0-mlogloss:0.74130\n",
      "[405]\tvalidation_0-mlogloss:0.74113\n",
      "[406]\tvalidation_0-mlogloss:0.74087\n",
      "[407]\tvalidation_0-mlogloss:0.74033\n",
      "[408]\tvalidation_0-mlogloss:0.73997\n",
      "[409]\tvalidation_0-mlogloss:0.73962\n",
      "[410]\tvalidation_0-mlogloss:0.73928\n",
      "[411]\tvalidation_0-mlogloss:0.73888\n",
      "[412]\tvalidation_0-mlogloss:0.73856\n",
      "[413]\tvalidation_0-mlogloss:0.73820\n",
      "[414]\tvalidation_0-mlogloss:0.73784\n",
      "[415]\tvalidation_0-mlogloss:0.73760\n",
      "[416]\tvalidation_0-mlogloss:0.73721\n",
      "[417]\tvalidation_0-mlogloss:0.73682\n",
      "[418]\tvalidation_0-mlogloss:0.73671\n",
      "[419]\tvalidation_0-mlogloss:0.73623\n",
      "[420]\tvalidation_0-mlogloss:0.73588\n",
      "[421]\tvalidation_0-mlogloss:0.73526\n",
      "[422]\tvalidation_0-mlogloss:0.73465\n",
      "[423]\tvalidation_0-mlogloss:0.73418\n",
      "[424]\tvalidation_0-mlogloss:0.73378\n",
      "[425]\tvalidation_0-mlogloss:0.73361\n",
      "[426]\tvalidation_0-mlogloss:0.73328\n",
      "[427]\tvalidation_0-mlogloss:0.73294\n",
      "[428]\tvalidation_0-mlogloss:0.73276\n",
      "[429]\tvalidation_0-mlogloss:0.73243\n",
      "[430]\tvalidation_0-mlogloss:0.73219\n",
      "[431]\tvalidation_0-mlogloss:0.73203\n",
      "[432]\tvalidation_0-mlogloss:0.73181\n",
      "[433]\tvalidation_0-mlogloss:0.73158\n",
      "[434]\tvalidation_0-mlogloss:0.73141\n",
      "[435]\tvalidation_0-mlogloss:0.73130\n",
      "[436]\tvalidation_0-mlogloss:0.73104\n",
      "[437]\tvalidation_0-mlogloss:0.73084\n",
      "[438]\tvalidation_0-mlogloss:0.73079\n",
      "[439]\tvalidation_0-mlogloss:0.73051\n",
      "[440]\tvalidation_0-mlogloss:0.73031\n",
      "[441]\tvalidation_0-mlogloss:0.73002\n",
      "[442]\tvalidation_0-mlogloss:0.72982\n",
      "[443]\tvalidation_0-mlogloss:0.72964\n",
      "[444]\tvalidation_0-mlogloss:0.72945\n",
      "[445]\tvalidation_0-mlogloss:0.72941\n",
      "[446]\tvalidation_0-mlogloss:0.72916\n",
      "[447]\tvalidation_0-mlogloss:0.72880\n",
      "[448]\tvalidation_0-mlogloss:0.72852\n",
      "[449]\tvalidation_0-mlogloss:0.72824\n",
      "[450]\tvalidation_0-mlogloss:0.72792\n",
      "[451]\tvalidation_0-mlogloss:0.72746\n",
      "[452]\tvalidation_0-mlogloss:0.72732\n",
      "[453]\tvalidation_0-mlogloss:0.72713\n",
      "[454]\tvalidation_0-mlogloss:0.72667\n",
      "[455]\tvalidation_0-mlogloss:0.72649\n",
      "[456]\tvalidation_0-mlogloss:0.72641\n",
      "[457]\tvalidation_0-mlogloss:0.72601\n",
      "[458]\tvalidation_0-mlogloss:0.72579\n",
      "[459]\tvalidation_0-mlogloss:0.72550\n",
      "[460]\tvalidation_0-mlogloss:0.72527\n",
      "[461]\tvalidation_0-mlogloss:0.72485\n",
      "[462]\tvalidation_0-mlogloss:0.72440\n",
      "[463]\tvalidation_0-mlogloss:0.72420\n",
      "[464]\tvalidation_0-mlogloss:0.72392\n",
      "[465]\tvalidation_0-mlogloss:0.72371\n",
      "[466]\tvalidation_0-mlogloss:0.72348\n",
      "[467]\tvalidation_0-mlogloss:0.72307\n",
      "[468]\tvalidation_0-mlogloss:0.72294\n",
      "[469]\tvalidation_0-mlogloss:0.72288\n",
      "[470]\tvalidation_0-mlogloss:0.72271\n",
      "[471]\tvalidation_0-mlogloss:0.72250\n",
      "[472]\tvalidation_0-mlogloss:0.72243\n",
      "[473]\tvalidation_0-mlogloss:0.72235\n",
      "[474]\tvalidation_0-mlogloss:0.72206\n",
      "[475]\tvalidation_0-mlogloss:0.72185\n",
      "[476]\tvalidation_0-mlogloss:0.72159\n",
      "[477]\tvalidation_0-mlogloss:0.72144\n",
      "[478]\tvalidation_0-mlogloss:0.72133\n",
      "[479]\tvalidation_0-mlogloss:0.72095\n",
      "[480]\tvalidation_0-mlogloss:0.72076\n",
      "[481]\tvalidation_0-mlogloss:0.72068\n",
      "[482]\tvalidation_0-mlogloss:0.72063\n",
      "[483]\tvalidation_0-mlogloss:0.72033\n",
      "[484]\tvalidation_0-mlogloss:0.72005\n",
      "[485]\tvalidation_0-mlogloss:0.71988\n",
      "[486]\tvalidation_0-mlogloss:0.71960\n",
      "[487]\tvalidation_0-mlogloss:0.71948\n",
      "[488]\tvalidation_0-mlogloss:0.71927\n",
      "[489]\tvalidation_0-mlogloss:0.71905\n",
      "[490]\tvalidation_0-mlogloss:0.71885\n",
      "[491]\tvalidation_0-mlogloss:0.71869\n",
      "[492]\tvalidation_0-mlogloss:0.71858\n",
      "[493]\tvalidation_0-mlogloss:0.71836\n",
      "[494]\tvalidation_0-mlogloss:0.71826\n",
      "[495]\tvalidation_0-mlogloss:0.71789\n",
      "[496]\tvalidation_0-mlogloss:0.71779\n",
      "[497]\tvalidation_0-mlogloss:0.71772\n",
      "[498]\tvalidation_0-mlogloss:0.71754\n",
      "[499]\tvalidation_0-mlogloss:0.71740\n",
      "[500]\tvalidation_0-mlogloss:0.71710\n",
      "[501]\tvalidation_0-mlogloss:0.71694\n",
      "[502]\tvalidation_0-mlogloss:0.71667\n",
      "[503]\tvalidation_0-mlogloss:0.71636\n",
      "[504]\tvalidation_0-mlogloss:0.71606\n",
      "[505]\tvalidation_0-mlogloss:0.71588\n",
      "[506]\tvalidation_0-mlogloss:0.71578\n",
      "[507]\tvalidation_0-mlogloss:0.71546\n",
      "[508]\tvalidation_0-mlogloss:0.71529\n",
      "[509]\tvalidation_0-mlogloss:0.71512\n",
      "[510]\tvalidation_0-mlogloss:0.71488\n",
      "[511]\tvalidation_0-mlogloss:0.71471\n",
      "[512]\tvalidation_0-mlogloss:0.71459\n",
      "[513]\tvalidation_0-mlogloss:0.71440\n",
      "[514]\tvalidation_0-mlogloss:0.71431\n",
      "[515]\tvalidation_0-mlogloss:0.71416\n",
      "[516]\tvalidation_0-mlogloss:0.71395\n",
      "[517]\tvalidation_0-mlogloss:0.71380\n",
      "[518]\tvalidation_0-mlogloss:0.71364\n",
      "[519]\tvalidation_0-mlogloss:0.71350\n",
      "[520]\tvalidation_0-mlogloss:0.71337\n",
      "[521]\tvalidation_0-mlogloss:0.71322\n",
      "[522]\tvalidation_0-mlogloss:0.71304\n",
      "[523]\tvalidation_0-mlogloss:0.71266\n",
      "[524]\tvalidation_0-mlogloss:0.71249\n",
      "[525]\tvalidation_0-mlogloss:0.71228\n",
      "[526]\tvalidation_0-mlogloss:0.71206\n",
      "[527]\tvalidation_0-mlogloss:0.71187\n",
      "[528]\tvalidation_0-mlogloss:0.71180\n",
      "[529]\tvalidation_0-mlogloss:0.71169\n",
      "[530]\tvalidation_0-mlogloss:0.71162\n",
      "[531]\tvalidation_0-mlogloss:0.71151\n",
      "[532]\tvalidation_0-mlogloss:0.71120\n",
      "[533]\tvalidation_0-mlogloss:0.71101\n",
      "[534]\tvalidation_0-mlogloss:0.71092\n",
      "[535]\tvalidation_0-mlogloss:0.71079\n",
      "[536]\tvalidation_0-mlogloss:0.71066\n",
      "[537]\tvalidation_0-mlogloss:0.71055\n",
      "[538]\tvalidation_0-mlogloss:0.71043\n",
      "[539]\tvalidation_0-mlogloss:0.71029\n",
      "[540]\tvalidation_0-mlogloss:0.71001\n",
      "[541]\tvalidation_0-mlogloss:0.70991\n",
      "[542]\tvalidation_0-mlogloss:0.70992\n",
      "[543]\tvalidation_0-mlogloss:0.70966\n",
      "[544]\tvalidation_0-mlogloss:0.70954\n",
      "[545]\tvalidation_0-mlogloss:0.70940\n",
      "[546]\tvalidation_0-mlogloss:0.70925\n",
      "[547]\tvalidation_0-mlogloss:0.70916\n",
      "[548]\tvalidation_0-mlogloss:0.70908\n",
      "[549]\tvalidation_0-mlogloss:0.70888\n",
      "[550]\tvalidation_0-mlogloss:0.70874\n",
      "[551]\tvalidation_0-mlogloss:0.70857\n",
      "[552]\tvalidation_0-mlogloss:0.70842\n",
      "[553]\tvalidation_0-mlogloss:0.70828\n",
      "[554]\tvalidation_0-mlogloss:0.70809\n",
      "[555]\tvalidation_0-mlogloss:0.70802\n",
      "[556]\tvalidation_0-mlogloss:0.70784\n",
      "[557]\tvalidation_0-mlogloss:0.70760\n",
      "[558]\tvalidation_0-mlogloss:0.70735\n",
      "[559]\tvalidation_0-mlogloss:0.70725\n",
      "[560]\tvalidation_0-mlogloss:0.70706\n",
      "[561]\tvalidation_0-mlogloss:0.70698\n",
      "[562]\tvalidation_0-mlogloss:0.70697\n",
      "[563]\tvalidation_0-mlogloss:0.70680\n",
      "[564]\tvalidation_0-mlogloss:0.70671\n",
      "[565]\tvalidation_0-mlogloss:0.70659\n",
      "[566]\tvalidation_0-mlogloss:0.70650\n",
      "[567]\tvalidation_0-mlogloss:0.70638\n",
      "[568]\tvalidation_0-mlogloss:0.70617\n",
      "[569]\tvalidation_0-mlogloss:0.70590\n",
      "[570]\tvalidation_0-mlogloss:0.70585\n",
      "[571]\tvalidation_0-mlogloss:0.70563\n",
      "[572]\tvalidation_0-mlogloss:0.70538\n",
      "[573]\tvalidation_0-mlogloss:0.70523\n",
      "[574]\tvalidation_0-mlogloss:0.70508\n",
      "[575]\tvalidation_0-mlogloss:0.70490\n",
      "[576]\tvalidation_0-mlogloss:0.70480\n",
      "[577]\tvalidation_0-mlogloss:0.70467\n",
      "[578]\tvalidation_0-mlogloss:0.70451\n",
      "[579]\tvalidation_0-mlogloss:0.70433\n",
      "[580]\tvalidation_0-mlogloss:0.70422\n",
      "[581]\tvalidation_0-mlogloss:0.70413\n",
      "[582]\tvalidation_0-mlogloss:0.70397\n",
      "[583]\tvalidation_0-mlogloss:0.70390\n",
      "[584]\tvalidation_0-mlogloss:0.70377\n",
      "[585]\tvalidation_0-mlogloss:0.70354\n",
      "[586]\tvalidation_0-mlogloss:0.70332\n",
      "[587]\tvalidation_0-mlogloss:0.70316\n",
      "[588]\tvalidation_0-mlogloss:0.70291\n",
      "[589]\tvalidation_0-mlogloss:0.70288\n",
      "[590]\tvalidation_0-mlogloss:0.70291\n",
      "[591]\tvalidation_0-mlogloss:0.70284\n",
      "[592]\tvalidation_0-mlogloss:0.70267\n",
      "[593]\tvalidation_0-mlogloss:0.70257\n",
      "[594]\tvalidation_0-mlogloss:0.70253\n",
      "[595]\tvalidation_0-mlogloss:0.70243\n",
      "[596]\tvalidation_0-mlogloss:0.70228\n",
      "[597]\tvalidation_0-mlogloss:0.70214\n",
      "[598]\tvalidation_0-mlogloss:0.70197\n",
      "[599]\tvalidation_0-mlogloss:0.70185\n",
      "[600]\tvalidation_0-mlogloss:0.70178\n",
      "[601]\tvalidation_0-mlogloss:0.70165\n",
      "[602]\tvalidation_0-mlogloss:0.70165\n",
      "[603]\tvalidation_0-mlogloss:0.70154\n",
      "[604]\tvalidation_0-mlogloss:0.70151\n",
      "[605]\tvalidation_0-mlogloss:0.70147\n",
      "[606]\tvalidation_0-mlogloss:0.70150\n",
      "[607]\tvalidation_0-mlogloss:0.70131\n",
      "[608]\tvalidation_0-mlogloss:0.70133\n",
      "[609]\tvalidation_0-mlogloss:0.70113\n",
      "[610]\tvalidation_0-mlogloss:0.70095\n",
      "[611]\tvalidation_0-mlogloss:0.70077\n",
      "[612]\tvalidation_0-mlogloss:0.70057\n",
      "[613]\tvalidation_0-mlogloss:0.70053\n",
      "[614]\tvalidation_0-mlogloss:0.70033\n",
      "[615]\tvalidation_0-mlogloss:0.70028\n",
      "[616]\tvalidation_0-mlogloss:0.70012\n",
      "[617]\tvalidation_0-mlogloss:0.70001\n",
      "[618]\tvalidation_0-mlogloss:0.69986\n",
      "[619]\tvalidation_0-mlogloss:0.69977\n",
      "[620]\tvalidation_0-mlogloss:0.69970\n",
      "[621]\tvalidation_0-mlogloss:0.69958\n",
      "[622]\tvalidation_0-mlogloss:0.69946\n",
      "[623]\tvalidation_0-mlogloss:0.69945\n",
      "[624]\tvalidation_0-mlogloss:0.69942\n",
      "[625]\tvalidation_0-mlogloss:0.69934\n",
      "[626]\tvalidation_0-mlogloss:0.69935\n",
      "[627]\tvalidation_0-mlogloss:0.69920\n",
      "[628]\tvalidation_0-mlogloss:0.69909\n",
      "[629]\tvalidation_0-mlogloss:0.69888\n",
      "[630]\tvalidation_0-mlogloss:0.69885\n",
      "[631]\tvalidation_0-mlogloss:0.69876\n",
      "[632]\tvalidation_0-mlogloss:0.69868\n",
      "[633]\tvalidation_0-mlogloss:0.69856\n",
      "[634]\tvalidation_0-mlogloss:0.69848\n",
      "[635]\tvalidation_0-mlogloss:0.69835\n",
      "[636]\tvalidation_0-mlogloss:0.69813\n",
      "[637]\tvalidation_0-mlogloss:0.69802\n",
      "[638]\tvalidation_0-mlogloss:0.69784\n",
      "[639]\tvalidation_0-mlogloss:0.69770\n",
      "[640]\tvalidation_0-mlogloss:0.69760\n",
      "[641]\tvalidation_0-mlogloss:0.69744\n",
      "[642]\tvalidation_0-mlogloss:0.69730\n",
      "[643]\tvalidation_0-mlogloss:0.69722\n",
      "[644]\tvalidation_0-mlogloss:0.69706\n",
      "[645]\tvalidation_0-mlogloss:0.69682\n",
      "[646]\tvalidation_0-mlogloss:0.69672\n",
      "[647]\tvalidation_0-mlogloss:0.69663\n",
      "[648]\tvalidation_0-mlogloss:0.69659\n",
      "[649]\tvalidation_0-mlogloss:0.69638\n",
      "[650]\tvalidation_0-mlogloss:0.69624\n",
      "[651]\tvalidation_0-mlogloss:0.69614\n",
      "[652]\tvalidation_0-mlogloss:0.69614\n",
      "[653]\tvalidation_0-mlogloss:0.69602\n",
      "[654]\tvalidation_0-mlogloss:0.69585\n",
      "[655]\tvalidation_0-mlogloss:0.69579\n",
      "[656]\tvalidation_0-mlogloss:0.69582\n",
      "[657]\tvalidation_0-mlogloss:0.69578\n",
      "[658]\tvalidation_0-mlogloss:0.69574\n",
      "[659]\tvalidation_0-mlogloss:0.69571\n",
      "[660]\tvalidation_0-mlogloss:0.69555\n",
      "[661]\tvalidation_0-mlogloss:0.69548\n",
      "[662]\tvalidation_0-mlogloss:0.69540\n",
      "[663]\tvalidation_0-mlogloss:0.69528\n",
      "[664]\tvalidation_0-mlogloss:0.69520\n",
      "[665]\tvalidation_0-mlogloss:0.69517\n",
      "[666]\tvalidation_0-mlogloss:0.69509\n",
      "[667]\tvalidation_0-mlogloss:0.69502\n",
      "[668]\tvalidation_0-mlogloss:0.69494\n",
      "[669]\tvalidation_0-mlogloss:0.69474\n",
      "[670]\tvalidation_0-mlogloss:0.69460\n",
      "[671]\tvalidation_0-mlogloss:0.69449\n",
      "[672]\tvalidation_0-mlogloss:0.69432\n",
      "[673]\tvalidation_0-mlogloss:0.69413\n",
      "[674]\tvalidation_0-mlogloss:0.69410\n",
      "[675]\tvalidation_0-mlogloss:0.69394\n",
      "[676]\tvalidation_0-mlogloss:0.69374\n",
      "[677]\tvalidation_0-mlogloss:0.69360\n",
      "[678]\tvalidation_0-mlogloss:0.69350\n",
      "[679]\tvalidation_0-mlogloss:0.69341\n",
      "[680]\tvalidation_0-mlogloss:0.69336\n",
      "[681]\tvalidation_0-mlogloss:0.69330\n",
      "[682]\tvalidation_0-mlogloss:0.69318\n",
      "[683]\tvalidation_0-mlogloss:0.69304\n",
      "[684]\tvalidation_0-mlogloss:0.69292\n",
      "[685]\tvalidation_0-mlogloss:0.69284\n",
      "[686]\tvalidation_0-mlogloss:0.69283\n",
      "[687]\tvalidation_0-mlogloss:0.69279\n",
      "[688]\tvalidation_0-mlogloss:0.69264\n",
      "[689]\tvalidation_0-mlogloss:0.69261\n",
      "[690]\tvalidation_0-mlogloss:0.69251\n",
      "[691]\tvalidation_0-mlogloss:0.69244\n",
      "[692]\tvalidation_0-mlogloss:0.69237\n",
      "[693]\tvalidation_0-mlogloss:0.69231\n",
      "[694]\tvalidation_0-mlogloss:0.69222\n",
      "[695]\tvalidation_0-mlogloss:0.69219\n",
      "[696]\tvalidation_0-mlogloss:0.69211\n",
      "[697]\tvalidation_0-mlogloss:0.69196\n",
      "[698]\tvalidation_0-mlogloss:0.69184\n",
      "[699]\tvalidation_0-mlogloss:0.69167\n",
      "[700]\tvalidation_0-mlogloss:0.69157\n",
      "[701]\tvalidation_0-mlogloss:0.69154\n",
      "[702]\tvalidation_0-mlogloss:0.69145\n",
      "[703]\tvalidation_0-mlogloss:0.69135\n",
      "[704]\tvalidation_0-mlogloss:0.69121\n",
      "[705]\tvalidation_0-mlogloss:0.69102\n",
      "[706]\tvalidation_0-mlogloss:0.69099\n",
      "[707]\tvalidation_0-mlogloss:0.69102\n",
      "[708]\tvalidation_0-mlogloss:0.69100\n",
      "[709]\tvalidation_0-mlogloss:0.69104\n",
      "[710]\tvalidation_0-mlogloss:0.69098\n",
      "[711]\tvalidation_0-mlogloss:0.69089\n",
      "[712]\tvalidation_0-mlogloss:0.69088\n",
      "[713]\tvalidation_0-mlogloss:0.69078\n",
      "[714]\tvalidation_0-mlogloss:0.69069\n",
      "[715]\tvalidation_0-mlogloss:0.69063\n",
      "[716]\tvalidation_0-mlogloss:0.69053\n",
      "[717]\tvalidation_0-mlogloss:0.69052\n",
      "[718]\tvalidation_0-mlogloss:0.69044\n",
      "[719]\tvalidation_0-mlogloss:0.69041\n",
      "[720]\tvalidation_0-mlogloss:0.69038\n",
      "[721]\tvalidation_0-mlogloss:0.69022\n",
      "[722]\tvalidation_0-mlogloss:0.69012\n",
      "[723]\tvalidation_0-mlogloss:0.68998\n",
      "[724]\tvalidation_0-mlogloss:0.68982\n",
      "[725]\tvalidation_0-mlogloss:0.68966\n",
      "[726]\tvalidation_0-mlogloss:0.68948\n",
      "[727]\tvalidation_0-mlogloss:0.68931\n",
      "[728]\tvalidation_0-mlogloss:0.68926\n",
      "[729]\tvalidation_0-mlogloss:0.68915\n",
      "[730]\tvalidation_0-mlogloss:0.68911\n",
      "[731]\tvalidation_0-mlogloss:0.68909\n",
      "[732]\tvalidation_0-mlogloss:0.68910\n",
      "[733]\tvalidation_0-mlogloss:0.68898\n",
      "[734]\tvalidation_0-mlogloss:0.68896\n",
      "[735]\tvalidation_0-mlogloss:0.68890\n",
      "[736]\tvalidation_0-mlogloss:0.68891\n",
      "[737]\tvalidation_0-mlogloss:0.68899\n",
      "[738]\tvalidation_0-mlogloss:0.68895\n",
      "[739]\tvalidation_0-mlogloss:0.68879\n",
      "[740]\tvalidation_0-mlogloss:0.68864\n",
      "[741]\tvalidation_0-mlogloss:0.68839\n",
      "[742]\tvalidation_0-mlogloss:0.68828\n",
      "[743]\tvalidation_0-mlogloss:0.68826\n",
      "[744]\tvalidation_0-mlogloss:0.68812\n",
      "[745]\tvalidation_0-mlogloss:0.68809\n",
      "[746]\tvalidation_0-mlogloss:0.68803\n",
      "[747]\tvalidation_0-mlogloss:0.68798\n",
      "[748]\tvalidation_0-mlogloss:0.68789\n",
      "[749]\tvalidation_0-mlogloss:0.68791\n",
      "[750]\tvalidation_0-mlogloss:0.68775\n",
      "[751]\tvalidation_0-mlogloss:0.68772\n",
      "[752]\tvalidation_0-mlogloss:0.68771\n",
      "[753]\tvalidation_0-mlogloss:0.68768\n",
      "[754]\tvalidation_0-mlogloss:0.68759\n",
      "[755]\tvalidation_0-mlogloss:0.68749\n",
      "[756]\tvalidation_0-mlogloss:0.68751\n",
      "[757]\tvalidation_0-mlogloss:0.68760\n",
      "[758]\tvalidation_0-mlogloss:0.68761\n"
     ]
    },
    {
     "data": {
      "text/html": [
       "<style>#sk-container-id-1 {\n",
       "  /* Definition of color scheme common for light and dark mode */\n",
       "  --sklearn-color-text: black;\n",
       "  --sklearn-color-line: gray;\n",
       "  /* Definition of color scheme for unfitted estimators */\n",
       "  --sklearn-color-unfitted-level-0: #fff5e6;\n",
       "  --sklearn-color-unfitted-level-1: #f6e4d2;\n",
       "  --sklearn-color-unfitted-level-2: #ffe0b3;\n",
       "  --sklearn-color-unfitted-level-3: chocolate;\n",
       "  /* Definition of color scheme for fitted estimators */\n",
       "  --sklearn-color-fitted-level-0: #f0f8ff;\n",
       "  --sklearn-color-fitted-level-1: #d4ebff;\n",
       "  --sklearn-color-fitted-level-2: #b3dbfd;\n",
       "  --sklearn-color-fitted-level-3: cornflowerblue;\n",
       "\n",
       "  /* Specific color for light theme */\n",
       "  --sklearn-color-text-on-default-background: var(--sg-text-color, var(--theme-code-foreground, var(--jp-content-font-color1, black)));\n",
       "  --sklearn-color-background: var(--sg-background-color, var(--theme-background, var(--jp-layout-color0, white)));\n",
       "  --sklearn-color-border-box: var(--sg-text-color, var(--theme-code-foreground, var(--jp-content-font-color1, black)));\n",
       "  --sklearn-color-icon: #696969;\n",
       "\n",
       "  @media (prefers-color-scheme: dark) {\n",
       "    /* Redefinition of color scheme for dark theme */\n",
       "    --sklearn-color-text-on-default-background: var(--sg-text-color, var(--theme-code-foreground, var(--jp-content-font-color1, white)));\n",
       "    --sklearn-color-background: var(--sg-background-color, var(--theme-background, var(--jp-layout-color0, #111)));\n",
       "    --sklearn-color-border-box: var(--sg-text-color, var(--theme-code-foreground, var(--jp-content-font-color1, white)));\n",
       "    --sklearn-color-icon: #878787;\n",
       "  }\n",
       "}\n",
       "\n",
       "#sk-container-id-1 {\n",
       "  color: var(--sklearn-color-text);\n",
       "}\n",
       "\n",
       "#sk-container-id-1 pre {\n",
       "  padding: 0;\n",
       "}\n",
       "\n",
       "#sk-container-id-1 input.sk-hidden--visually {\n",
       "  border: 0;\n",
       "  clip: rect(1px 1px 1px 1px);\n",
       "  clip: rect(1px, 1px, 1px, 1px);\n",
       "  height: 1px;\n",
       "  margin: -1px;\n",
       "  overflow: hidden;\n",
       "  padding: 0;\n",
       "  position: absolute;\n",
       "  width: 1px;\n",
       "}\n",
       "\n",
       "#sk-container-id-1 div.sk-dashed-wrapped {\n",
       "  border: 1px dashed var(--sklearn-color-line);\n",
       "  margin: 0 0.4em 0.5em 0.4em;\n",
       "  box-sizing: border-box;\n",
       "  padding-bottom: 0.4em;\n",
       "  background-color: var(--sklearn-color-background);\n",
       "}\n",
       "\n",
       "#sk-container-id-1 div.sk-container {\n",
       "  /* jupyter's `normalize.less` sets `[hidden] { display: none; }`\n",
       "     but bootstrap.min.css set `[hidden] { display: none !important; }`\n",
       "     so we also need the `!important` here to be able to override the\n",
       "     default hidden behavior on the sphinx rendered scikit-learn.org.\n",
       "     See: https://github.com/scikit-learn/scikit-learn/issues/21755 */\n",
       "  display: inline-block !important;\n",
       "  position: relative;\n",
       "}\n",
       "\n",
       "#sk-container-id-1 div.sk-text-repr-fallback {\n",
       "  display: none;\n",
       "}\n",
       "\n",
       "div.sk-parallel-item,\n",
       "div.sk-serial,\n",
       "div.sk-item {\n",
       "  /* draw centered vertical line to link estimators */\n",
       "  background-image: linear-gradient(var(--sklearn-color-text-on-default-background), var(--sklearn-color-text-on-default-background));\n",
       "  background-size: 2px 100%;\n",
       "  background-repeat: no-repeat;\n",
       "  background-position: center center;\n",
       "}\n",
       "\n",
       "/* Parallel-specific style estimator block */\n",
       "\n",
       "#sk-container-id-1 div.sk-parallel-item::after {\n",
       "  content: \"\";\n",
       "  width: 100%;\n",
       "  border-bottom: 2px solid var(--sklearn-color-text-on-default-background);\n",
       "  flex-grow: 1;\n",
       "}\n",
       "\n",
       "#sk-container-id-1 div.sk-parallel {\n",
       "  display: flex;\n",
       "  align-items: stretch;\n",
       "  justify-content: center;\n",
       "  background-color: var(--sklearn-color-background);\n",
       "  position: relative;\n",
       "}\n",
       "\n",
       "#sk-container-id-1 div.sk-parallel-item {\n",
       "  display: flex;\n",
       "  flex-direction: column;\n",
       "}\n",
       "\n",
       "#sk-container-id-1 div.sk-parallel-item:first-child::after {\n",
       "  align-self: flex-end;\n",
       "  width: 50%;\n",
       "}\n",
       "\n",
       "#sk-container-id-1 div.sk-parallel-item:last-child::after {\n",
       "  align-self: flex-start;\n",
       "  width: 50%;\n",
       "}\n",
       "\n",
       "#sk-container-id-1 div.sk-parallel-item:only-child::after {\n",
       "  width: 0;\n",
       "}\n",
       "\n",
       "/* Serial-specific style estimator block */\n",
       "\n",
       "#sk-container-id-1 div.sk-serial {\n",
       "  display: flex;\n",
       "  flex-direction: column;\n",
       "  align-items: center;\n",
       "  background-color: var(--sklearn-color-background);\n",
       "  padding-right: 1em;\n",
       "  padding-left: 1em;\n",
       "}\n",
       "\n",
       "\n",
       "/* Toggleable style: style used for estimator/Pipeline/ColumnTransformer box that is\n",
       "clickable and can be expanded/collapsed.\n",
       "- Pipeline and ColumnTransformer use this feature and define the default style\n",
       "- Estimators will overwrite some part of the style using the `sk-estimator` class\n",
       "*/\n",
       "\n",
       "/* Pipeline and ColumnTransformer style (default) */\n",
       "\n",
       "#sk-container-id-1 div.sk-toggleable {\n",
       "  /* Default theme specific background. It is overwritten whether we have a\n",
       "  specific estimator or a Pipeline/ColumnTransformer */\n",
       "  background-color: var(--sklearn-color-background);\n",
       "}\n",
       "\n",
       "/* Toggleable label */\n",
       "#sk-container-id-1 label.sk-toggleable__label {\n",
       "  cursor: pointer;\n",
       "  display: block;\n",
       "  width: 100%;\n",
       "  margin-bottom: 0;\n",
       "  padding: 0.5em;\n",
       "  box-sizing: border-box;\n",
       "  text-align: center;\n",
       "}\n",
       "\n",
       "#sk-container-id-1 label.sk-toggleable__label-arrow:before {\n",
       "  /* Arrow on the left of the label */\n",
       "  content: \"▸\";\n",
       "  float: left;\n",
       "  margin-right: 0.25em;\n",
       "  color: var(--sklearn-color-icon);\n",
       "}\n",
       "\n",
       "#sk-container-id-1 label.sk-toggleable__label-arrow:hover:before {\n",
       "  color: var(--sklearn-color-text);\n",
       "}\n",
       "\n",
       "/* Toggleable content - dropdown */\n",
       "\n",
       "#sk-container-id-1 div.sk-toggleable__content {\n",
       "  max-height: 0;\n",
       "  max-width: 0;\n",
       "  overflow: hidden;\n",
       "  text-align: left;\n",
       "  /* unfitted */\n",
       "  background-color: var(--sklearn-color-unfitted-level-0);\n",
       "}\n",
       "\n",
       "#sk-container-id-1 div.sk-toggleable__content.fitted {\n",
       "  /* fitted */\n",
       "  background-color: var(--sklearn-color-fitted-level-0);\n",
       "}\n",
       "\n",
       "#sk-container-id-1 div.sk-toggleable__content pre {\n",
       "  margin: 0.2em;\n",
       "  border-radius: 0.25em;\n",
       "  color: var(--sklearn-color-text);\n",
       "  /* unfitted */\n",
       "  background-color: var(--sklearn-color-unfitted-level-0);\n",
       "}\n",
       "\n",
       "#sk-container-id-1 div.sk-toggleable__content.fitted pre {\n",
       "  /* unfitted */\n",
       "  background-color: var(--sklearn-color-fitted-level-0);\n",
       "}\n",
       "\n",
       "#sk-container-id-1 input.sk-toggleable__control:checked~div.sk-toggleable__content {\n",
       "  /* Expand drop-down */\n",
       "  max-height: 200px;\n",
       "  max-width: 100%;\n",
       "  overflow: auto;\n",
       "}\n",
       "\n",
       "#sk-container-id-1 input.sk-toggleable__control:checked~label.sk-toggleable__label-arrow:before {\n",
       "  content: \"▾\";\n",
       "}\n",
       "\n",
       "/* Pipeline/ColumnTransformer-specific style */\n",
       "\n",
       "#sk-container-id-1 div.sk-label input.sk-toggleable__control:checked~label.sk-toggleable__label {\n",
       "  color: var(--sklearn-color-text);\n",
       "  background-color: var(--sklearn-color-unfitted-level-2);\n",
       "}\n",
       "\n",
       "#sk-container-id-1 div.sk-label.fitted input.sk-toggleable__control:checked~label.sk-toggleable__label {\n",
       "  background-color: var(--sklearn-color-fitted-level-2);\n",
       "}\n",
       "\n",
       "/* Estimator-specific style */\n",
       "\n",
       "/* Colorize estimator box */\n",
       "#sk-container-id-1 div.sk-estimator input.sk-toggleable__control:checked~label.sk-toggleable__label {\n",
       "  /* unfitted */\n",
       "  background-color: var(--sklearn-color-unfitted-level-2);\n",
       "}\n",
       "\n",
       "#sk-container-id-1 div.sk-estimator.fitted input.sk-toggleable__control:checked~label.sk-toggleable__label {\n",
       "  /* fitted */\n",
       "  background-color: var(--sklearn-color-fitted-level-2);\n",
       "}\n",
       "\n",
       "#sk-container-id-1 div.sk-label label.sk-toggleable__label,\n",
       "#sk-container-id-1 div.sk-label label {\n",
       "  /* The background is the default theme color */\n",
       "  color: var(--sklearn-color-text-on-default-background);\n",
       "}\n",
       "\n",
       "/* On hover, darken the color of the background */\n",
       "#sk-container-id-1 div.sk-label:hover label.sk-toggleable__label {\n",
       "  color: var(--sklearn-color-text);\n",
       "  background-color: var(--sklearn-color-unfitted-level-2);\n",
       "}\n",
       "\n",
       "/* Label box, darken color on hover, fitted */\n",
       "#sk-container-id-1 div.sk-label.fitted:hover label.sk-toggleable__label.fitted {\n",
       "  color: var(--sklearn-color-text);\n",
       "  background-color: var(--sklearn-color-fitted-level-2);\n",
       "}\n",
       "\n",
       "/* Estimator label */\n",
       "\n",
       "#sk-container-id-1 div.sk-label label {\n",
       "  font-family: monospace;\n",
       "  font-weight: bold;\n",
       "  display: inline-block;\n",
       "  line-height: 1.2em;\n",
       "}\n",
       "\n",
       "#sk-container-id-1 div.sk-label-container {\n",
       "  text-align: center;\n",
       "}\n",
       "\n",
       "/* Estimator-specific */\n",
       "#sk-container-id-1 div.sk-estimator {\n",
       "  font-family: monospace;\n",
       "  border: 1px dotted var(--sklearn-color-border-box);\n",
       "  border-radius: 0.25em;\n",
       "  box-sizing: border-box;\n",
       "  margin-bottom: 0.5em;\n",
       "  /* unfitted */\n",
       "  background-color: var(--sklearn-color-unfitted-level-0);\n",
       "}\n",
       "\n",
       "#sk-container-id-1 div.sk-estimator.fitted {\n",
       "  /* fitted */\n",
       "  background-color: var(--sklearn-color-fitted-level-0);\n",
       "}\n",
       "\n",
       "/* on hover */\n",
       "#sk-container-id-1 div.sk-estimator:hover {\n",
       "  /* unfitted */\n",
       "  background-color: var(--sklearn-color-unfitted-level-2);\n",
       "}\n",
       "\n",
       "#sk-container-id-1 div.sk-estimator.fitted:hover {\n",
       "  /* fitted */\n",
       "  background-color: var(--sklearn-color-fitted-level-2);\n",
       "}\n",
       "\n",
       "/* Specification for estimator info (e.g. \"i\" and \"?\") */\n",
       "\n",
       "/* Common style for \"i\" and \"?\" */\n",
       "\n",
       ".sk-estimator-doc-link,\n",
       "a:link.sk-estimator-doc-link,\n",
       "a:visited.sk-estimator-doc-link {\n",
       "  float: right;\n",
       "  font-size: smaller;\n",
       "  line-height: 1em;\n",
       "  font-family: monospace;\n",
       "  background-color: var(--sklearn-color-background);\n",
       "  border-radius: 1em;\n",
       "  height: 1em;\n",
       "  width: 1em;\n",
       "  text-decoration: none !important;\n",
       "  margin-left: 1ex;\n",
       "  /* unfitted */\n",
       "  border: var(--sklearn-color-unfitted-level-1) 1pt solid;\n",
       "  color: var(--sklearn-color-unfitted-level-1);\n",
       "}\n",
       "\n",
       ".sk-estimator-doc-link.fitted,\n",
       "a:link.sk-estimator-doc-link.fitted,\n",
       "a:visited.sk-estimator-doc-link.fitted {\n",
       "  /* fitted */\n",
       "  border: var(--sklearn-color-fitted-level-1) 1pt solid;\n",
       "  color: var(--sklearn-color-fitted-level-1);\n",
       "}\n",
       "\n",
       "/* On hover */\n",
       "div.sk-estimator:hover .sk-estimator-doc-link:hover,\n",
       ".sk-estimator-doc-link:hover,\n",
       "div.sk-label-container:hover .sk-estimator-doc-link:hover,\n",
       ".sk-estimator-doc-link:hover {\n",
       "  /* unfitted */\n",
       "  background-color: var(--sklearn-color-unfitted-level-3);\n",
       "  color: var(--sklearn-color-background);\n",
       "  text-decoration: none;\n",
       "}\n",
       "\n",
       "div.sk-estimator.fitted:hover .sk-estimator-doc-link.fitted:hover,\n",
       ".sk-estimator-doc-link.fitted:hover,\n",
       "div.sk-label-container:hover .sk-estimator-doc-link.fitted:hover,\n",
       ".sk-estimator-doc-link.fitted:hover {\n",
       "  /* fitted */\n",
       "  background-color: var(--sklearn-color-fitted-level-3);\n",
       "  color: var(--sklearn-color-background);\n",
       "  text-decoration: none;\n",
       "}\n",
       "\n",
       "/* Span, style for the box shown on hovering the info icon */\n",
       ".sk-estimator-doc-link span {\n",
       "  display: none;\n",
       "  z-index: 9999;\n",
       "  position: relative;\n",
       "  font-weight: normal;\n",
       "  right: .2ex;\n",
       "  padding: .5ex;\n",
       "  margin: .5ex;\n",
       "  width: min-content;\n",
       "  min-width: 20ex;\n",
       "  max-width: 50ex;\n",
       "  color: var(--sklearn-color-text);\n",
       "  box-shadow: 2pt 2pt 4pt #999;\n",
       "  /* unfitted */\n",
       "  background: var(--sklearn-color-unfitted-level-0);\n",
       "  border: .5pt solid var(--sklearn-color-unfitted-level-3);\n",
       "}\n",
       "\n",
       ".sk-estimator-doc-link.fitted span {\n",
       "  /* fitted */\n",
       "  background: var(--sklearn-color-fitted-level-0);\n",
       "  border: var(--sklearn-color-fitted-level-3);\n",
       "}\n",
       "\n",
       ".sk-estimator-doc-link:hover span {\n",
       "  display: block;\n",
       "}\n",
       "\n",
       "/* \"?\"-specific style due to the `<a>` HTML tag */\n",
       "\n",
       "#sk-container-id-1 a.estimator_doc_link {\n",
       "  float: right;\n",
       "  font-size: 1rem;\n",
       "  line-height: 1em;\n",
       "  font-family: monospace;\n",
       "  background-color: var(--sklearn-color-background);\n",
       "  border-radius: 1rem;\n",
       "  height: 1rem;\n",
       "  width: 1rem;\n",
       "  text-decoration: none;\n",
       "  /* unfitted */\n",
       "  color: var(--sklearn-color-unfitted-level-1);\n",
       "  border: var(--sklearn-color-unfitted-level-1) 1pt solid;\n",
       "}\n",
       "\n",
       "#sk-container-id-1 a.estimator_doc_link.fitted {\n",
       "  /* fitted */\n",
       "  border: var(--sklearn-color-fitted-level-1) 1pt solid;\n",
       "  color: var(--sklearn-color-fitted-level-1);\n",
       "}\n",
       "\n",
       "/* On hover */\n",
       "#sk-container-id-1 a.estimator_doc_link:hover {\n",
       "  /* unfitted */\n",
       "  background-color: var(--sklearn-color-unfitted-level-3);\n",
       "  color: var(--sklearn-color-background);\n",
       "  text-decoration: none;\n",
       "}\n",
       "\n",
       "#sk-container-id-1 a.estimator_doc_link.fitted:hover {\n",
       "  /* fitted */\n",
       "  background-color: var(--sklearn-color-fitted-level-3);\n",
       "}\n",
       "</style><div id=\"sk-container-id-1\" class=\"sk-top-container\"><div class=\"sk-text-repr-fallback\"><pre>XGBClassifier(base_score=None, booster=None, callbacks=None,\n",
       "              colsample_bylevel=None, colsample_bynode=None,\n",
       "              colsample_bytree=None, device=None, early_stopping_rounds=4,\n",
       "              enable_categorical=False, eval_metric=None, feature_types=None,\n",
       "              gamma=None, grow_policy=None, importance_type=None,\n",
       "              interaction_constraints=None, learning_rate=0.1, max_bin=None,\n",
       "              max_cat_threshold=None, max_cat_to_onehot=None,\n",
       "              max_delta_step=None, max_depth=10, max_features=None,\n",
       "              max_leaves=None, min_child_weight=None, min_samples_leaf=1,\n",
       "              min_samples_split=2, missing=nan, monotone_constraints=None,\n",
       "              multi_strategy=None, n_estimators=1000, ...)</pre><b>In a Jupyter environment, please rerun this cell to show the HTML representation or trust the notebook. <br />On GitHub, the HTML representation is unable to render, please try loading this page with nbviewer.org.</b></div><div class=\"sk-container\" hidden><div class=\"sk-item\"><div class=\"sk-estimator fitted sk-toggleable\"><input class=\"sk-toggleable__control sk-hidden--visually\" id=\"sk-estimator-id-1\" type=\"checkbox\" checked><label for=\"sk-estimator-id-1\" class=\"sk-toggleable__label fitted sk-toggleable__label-arrow fitted\">&nbsp;XGBClassifier<span class=\"sk-estimator-doc-link fitted\">i<span>Fitted</span></span></label><div class=\"sk-toggleable__content fitted\"><pre>XGBClassifier(base_score=None, booster=None, callbacks=None,\n",
       "              colsample_bylevel=None, colsample_bynode=None,\n",
       "              colsample_bytree=None, device=None, early_stopping_rounds=4,\n",
       "              enable_categorical=False, eval_metric=None, feature_types=None,\n",
       "              gamma=None, grow_policy=None, importance_type=None,\n",
       "              interaction_constraints=None, learning_rate=0.1, max_bin=None,\n",
       "              max_cat_threshold=None, max_cat_to_onehot=None,\n",
       "              max_delta_step=None, max_depth=10, max_features=None,\n",
       "              max_leaves=None, min_child_weight=None, min_samples_leaf=1,\n",
       "              min_samples_split=2, missing=nan, monotone_constraints=None,\n",
       "              multi_strategy=None, n_estimators=1000, ...)</pre></div> </div></div></div></div>"
      ],
      "text/plain": [
       "XGBClassifier(base_score=None, booster=None, callbacks=None,\n",
       "              colsample_bylevel=None, colsample_bynode=None,\n",
       "              colsample_bytree=None, device=None, early_stopping_rounds=4,\n",
       "              enable_categorical=False, eval_metric=None, feature_types=None,\n",
       "              gamma=None, grow_policy=None, importance_type=None,\n",
       "              interaction_constraints=None, learning_rate=0.1, max_bin=None,\n",
       "              max_cat_threshold=None, max_cat_to_onehot=None,\n",
       "              max_delta_step=None, max_depth=10, max_features=None,\n",
       "              max_leaves=None, min_child_weight=None, min_samples_leaf=1,\n",
       "              min_samples_split=2, missing=nan, monotone_constraints=None,\n",
       "              multi_strategy=None, n_estimators=1000, ...)"
      ]
     },
     "execution_count": 43,
     "metadata": {},
     "output_type": "execute_result"
    }
   ],
   "source": [
    "xgb = XGBClassifier(learning_rate = 0.1, n_estimators = 1000, max_features = None, max_depth = 10, min_samples_leaf = 1, min_samples_split = 2, n_jobs = -1, early_stopping_rounds = 4)\n",
    "xgb.fit(X_train_non_eval, Y_tr_non_eval, eval_set = [(X_eval, Y_eval)])"
   ]
  },
  {
   "cell_type": "code",
   "execution_count": 44,
   "id": "3732492d-a46e-4a37-9856-9bc5a265b3d8",
   "metadata": {},
   "outputs": [],
   "source": [
    "xgb_pred =xgb.predict(X_test)"
   ]
  },
  {
   "cell_type": "code",
   "execution_count": 47,
   "id": "687e3a10-4fb1-437c-9efa-4fd7fd80cb1e",
   "metadata": {},
   "outputs": [
    {
     "name": "stdout",
     "output_type": "stream",
     "text": [
      "F1_score 0.7243422483661676\n",
      "recall_score 0.7168206040989249\n",
      "accuracy_score 0.7319467999642952\n"
     ]
    }
   ],
   "source": [
    "get_scores(xgb_pred, Y_tst)"
   ]
  },
  {
   "cell_type": "markdown",
   "id": "03f3b609-0826-46f6-92bb-e3ff6c3bec59",
   "metadata": {},
   "source": [
    "## Voting Classifier"
   ]
  },
  {
   "cell_type": "code",
   "execution_count": 53,
   "id": "55fdfcae-70ed-4334-87c3-6e41cd3daff1",
   "metadata": {},
   "outputs": [],
   "source": [
    "from sklearn.ensemble import VotingClassifier\n",
    "\n",
    "def custom_VotingClassifier():\n",
    "    final_preds = []\n",
    "    for i in range(len(X_test)):\n",
    "        preds = [xgb_pred[i], predictions[i], predicted_classes[i]]\n",
    "        final_preds.append(np.bincount(preds).argmax())\n",
    "    return final_preds, preds"
   ]
  },
  {
   "cell_type": "code",
   "execution_count": 62,
   "id": "c673115f-b96e-4473-805a-9a20f35579fb",
   "metadata": {},
   "outputs": [
    {
     "name": "stdout",
     "output_type": "stream",
     "text": [
      "F1_score 0.8524295085261946\n",
      "recall_score 0.8463031066707667\n",
      "accuracy_score 0.8534321163973936\n"
     ]
    }
   ],
   "source": [
    "final_preds, preds = custom_VotingClassifier()\n",
    "get_scores(final_preds, Y_tst)"
   ]
  },
  {
   "cell_type": "code",
   "execution_count": null,
   "id": "7c9c5b8f-be34-45e4-8aa6-e02e80bdc304",
   "metadata": {},
   "outputs": [],
   "source": []
  }
 ],
 "metadata": {
  "kernelspec": {
   "display_name": "Python 3 (ipykernel)",
   "language": "python",
   "name": "python3"
  },
  "language_info": {
   "codemirror_mode": {
    "name": "ipython",
    "version": 3
   },
   "file_extension": ".py",
   "mimetype": "text/x-python",
   "name": "python",
   "nbconvert_exporter": "python",
   "pygments_lexer": "ipython3",
   "version": "3.11.7"
  }
 },
 "nbformat": 4,
 "nbformat_minor": 5
}
